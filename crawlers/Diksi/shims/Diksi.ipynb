{
 "cells": [
  {
   "cell_type": "code",
   "execution_count": 118,
   "id": "b33108db",
   "metadata": {},
   "outputs": [],
   "source": [
    "import json\n",
    "import pandas as pd\n",
    "import requests\n",
    "\n",
    "from selectolax.parser import HTMLParser\n",
    "from bs4 import BeautifulSoup\n",
    "\n",
    "from urllib.parse import urljoin"
   ]
  },
  {
   "cell_type": "code",
   "execution_count": 9,
   "id": "c46edfdf",
   "metadata": {},
   "outputs": [],
   "source": [
    "headers = \"\"\"accept: */*\n",
    "accept-encoding: gzip, deflate, br\n",
    "accept-language: ru-RU,ru;q=0.9,en-US;q=0.8,en;q=0.7\n",
    "bx-ajax: true\n",
    "cookie: _ym_uid=1674666078746037980; _ym_d=1674666078; __ddg1_=NDAgEeNJ8GflD7hHorEs; BITRIX_SM_PROJECT_REGION_ID=21; BITRIX_SID=367H3L7R41; _ym_debug=null; usecookie=accept; _ga=GA1.3.1646809603.1674666078; tmr_lvid=bc5bf1f46b2ccbf438bd0f0b1fabfa1d; tmr_lvidTS=1675015175101; BX_USER_ID=38c70cbf3950a7a6a0dca208ce946056; reg-closed=accept; pickup_popup=0; private=0; alco_agreement=no; _gid=GA1.2.201519798.1676993974; _ym_visorc=b; _ym_isad=2; BITRIX_SM_SALE_UID=38d95e86000c81780974f364cbfbef47; BITRIX_CONVERSION_CONTEXT_s1=%7B%22ID%22%3A4%2C%22EXPIRE%22%3A1677013140%2C%22UNIQUE%22%3A%5B%22conversion_visit_day%22%5D%7D; _gid=GA1.3.201519798.1676993974; PHPSESSID=323399f438bc1eb29fd47e9a7cd3d516; is_spb=1; store_id=2373; address=%D0%A1%D0%B0%D0%BD%D0%BA%D1%82-%D0%9F%D0%B5%D1%82%D0%B5%D1%80%D0%B1%D1%83%D1%80%D0%B3%2C%20%D0%BF%D1%80%D0%BE%D1%81%D0%BF%D0%B5%D0%BA%D1%82%20%D0%A5%D1%83%D0%B4%D0%BE%D0%B6%D0%BD%D0%B8%D0%BA%D0%BE%D0%B2%20; coords=60.044859%2C30.351055; distance=815; price_id=82; alco_allow=0; is_m=false; countmobile=9; LOYALTYCARD=4; _dc_gtm_UA-172001173-1=1; _gat_UA-172001173-1=1; _ga=GA1.1.1646809603.1674666078; _ga_J3JT2KMN08=GS1.1.1676993989.40.1.1676994535.51.0.0; tmr_detect=0%7C1676994535754\n",
    "referer: https://dostavka.dixy.ru/catalog/voda_soki_napitki_1/?PAGEN_1=2\n",
    "sec-ch-ua: \"Not_A Brand\";v=\"99\", \"Google Chrome\";v=\"109\", \"Chromium\";v=\"109\"\n",
    "sec-ch-ua-mobile: ?0\n",
    "sec-ch-ua-platform: \"macOS\"\n",
    "sec-fetch-dest: empty\n",
    "sec-fetch-mode: cors\n",
    "sec-fetch-site: same-origin\n",
    "user-agent: Mozilla/5.0 (Macintosh; Intel Mac OS X 10_15_7) AppleWebKit/537.36 (KHTML, like Gecko) Chrome/109.0.0.0 Safari/537.36\"\"\""
   ]
  },
  {
   "cell_type": "code",
   "execution_count": 10,
   "id": "cad4bf3c",
   "metadata": {},
   "outputs": [],
   "source": [
    "def parse_header(raw_header: str):\n",
    "    header = dict()\n",
    "\n",
    "    for line in raw_header.split(\"\\n\"):\n",
    "\n",
    "        if line.startswith(\":\"):\n",
    "            a, b = line[1:].split(\":\", 1)\n",
    "            a = f\":{a}\"\n",
    "        else:\n",
    "            a, b = line.split(\":\",1)\n",
    "\n",
    "        header[a.strip()] = b.strip()\n",
    "\n",
    "    return header"
   ]
  },
  {
   "cell_type": "code",
   "execution_count": 11,
   "id": "51e9ec2e",
   "metadata": {},
   "outputs": [],
   "source": [
    "headers = parse_header(headers)"
   ]
  },
  {
   "cell_type": "code",
   "execution_count": 107,
   "id": "b010eb73",
   "metadata": {},
   "outputs": [],
   "source": [
    "resp = requests.get(\n",
    "    \"https://dostavka.dixy.ru/catalog/sales/bakaleya-new/\"\n",
    ")"
   ]
  },
  {
   "cell_type": "code",
   "execution_count": 108,
   "id": "63f3a27c",
   "metadata": {},
   "outputs": [],
   "source": [
    "dom = HTMLParser(resp.text)\n",
    "soup = BeautifulSoup(resp.text)"
   ]
  },
  {
   "cell_type": "code",
   "execution_count": 120,
   "id": "cab0813d",
   "metadata": {},
   "outputs": [
    {
     "data": {
      "text/plain": [
       "{'Бакалея': '/catalog/sales/bakaleya-new/',\n",
       " 'Молочные продукты, яйца': '/catalog/sales/molochnye-produkty-yaytsa-new/',\n",
       " 'Овощи, фрукты, зелень, грибы': '/catalog/sales/ovoshchi-frukty-zelen-griby-new/',\n",
       " 'Товары для детей': '/catalog/sales/tovary-dlya-detey-new/',\n",
       " 'Детское питание': '/catalog/sales/detskoe-pitanie-new/',\n",
       " 'Хлеб, выпечка, сладости': '/catalog/sales/khleb-vypechka-sladosti-new/',\n",
       " 'Рыба, морепродукты, икра': '/catalog/sales/ryba-moreprodukty-ikra-new/',\n",
       " 'Вода, соки, напитки': '/catalog/sales/voda-soki-napitki-new/',\n",
       " 'Замороженные продукты': '/catalog/sales/zamorozhennye-produkty-new/',\n",
       " 'Соусы, специи': '/catalog/sales/sousy-spetsii-new/',\n",
       " 'Бытовая химия': '/catalog/sales/bytovaya-khimiya-new/',\n",
       " 'Консервы': '/catalog/sales/konservy-new/',\n",
       " 'Сыры': '/catalog/sales/syry-new/'}"
      ]
     },
     "execution_count": 120,
     "metadata": {},
     "output_type": "execute_result"
    }
   ],
   "source": [
    "{\n",
    "    el.css_first(\"span\").text(): el.attributes[\"href\"]\n",
    "    for el in dom.css(\"div.section-compact-list > div > div > a\")\n",
    "}"
   ]
  },
  {
   "cell_type": "code",
   "execution_count": 119,
   "id": "c8941aea",
   "metadata": {},
   "outputs": [
    {
     "data": {
      "text/plain": [
       "'https://dostavka.dixy.ru/catalog/sales/bakaleya-new/'"
      ]
     },
     "execution_count": 119,
     "metadata": {},
     "output_type": "execute_result"
    }
   ],
   "source": [
    "urljoin(\"https://dostavka.dixy.ru/catalog/sales/\", \"/catalog/sales/bakaleya-new/\")"
   ]
  },
  {
   "cell_type": "code",
   "execution_count": 113,
   "id": "b4b7c814",
   "metadata": {},
   "outputs": [
    {
     "data": {
      "text/plain": [
       "'19'"
      ]
     },
     "execution_count": 113,
     "metadata": {},
     "output_type": "execute_result"
    }
   ],
   "source": [
    "dom.css_first(\"div.nums a.dark_link:last-child\").text()"
   ]
  },
  {
   "cell_type": "code",
   "execution_count": 84,
   "id": "4c578b5e",
   "metadata": {},
   "outputs": [
    {
     "data": {
      "text/plain": [
       "20"
      ]
     },
     "execution_count": 84,
     "metadata": {},
     "output_type": "execute_result"
    }
   ],
   "source": [
    "len(dom.css(\"div.catalog_block > div.item_block\"))"
   ]
  },
  {
   "cell_type": "code",
   "execution_count": 150,
   "id": "98d71578",
   "metadata": {},
   "outputs": [],
   "source": [
    "df_1 = pd.read_json(\"/Users/borokoko/Crawlers/data/Diksi/diksi_1.json\")\n",
    "df_2 = pd.read_json(\"/Users/borokoko/Crawlers/data/Diksi/diksi_2.json\")"
   ]
  },
  {
   "cell_type": "code",
   "execution_count": 151,
   "id": "947f9234",
   "metadata": {},
   "outputs": [],
   "source": [
    "df_1 = df_1.drop_duplicates(subset=\"name\")\n",
    "df_2 = df_2.drop_duplicates(subset=\"name\")\n",
    "\n",
    "# df_1 = df_1[df_1.price_cur.notna() & df_1.price_prev.notna()]\n",
    "# df_2 = df_2[df_2.price_cur.notna() & df_2.price_prev.notna()]"
   ]
  },
  {
   "cell_type": "code",
   "execution_count": 152,
   "id": "40cc95f6",
   "metadata": {},
   "outputs": [],
   "source": [
    "df_m = df_1.merge(df_2, on=\"name\", how=\"inner\")"
   ]
  },
  {
   "cell_type": "code",
   "execution_count": 156,
   "id": "5b62f43a",
   "metadata": {},
   "outputs": [
    {
     "data": {
      "text/html": [
       "<div>\n",
       "<style scoped>\n",
       "    .dataframe tbody tr th:only-of-type {\n",
       "        vertical-align: middle;\n",
       "    }\n",
       "\n",
       "    .dataframe tbody tr th {\n",
       "        vertical-align: top;\n",
       "    }\n",
       "\n",
       "    .dataframe thead th {\n",
       "        text-align: right;\n",
       "    }\n",
       "</style>\n",
       "<table border=\"1\" class=\"dataframe\">\n",
       "  <thead>\n",
       "    <tr style=\"text-align: right;\">\n",
       "      <th></th>\n",
       "      <th>name</th>\n",
       "      <th>price_cur_x</th>\n",
       "      <th>category_x</th>\n",
       "      <th>subcategory_x</th>\n",
       "      <th>price_prev_x</th>\n",
       "      <th>price_prev_y</th>\n",
       "      <th>price_cur_y</th>\n",
       "      <th>category_y</th>\n",
       "      <th>subcategory_y</th>\n",
       "    </tr>\n",
       "  </thead>\n",
       "  <tbody>\n",
       "    <tr>\n",
       "      <th>11062</th>\n",
       "      <td>Набор для творчества Колорит Гравюра большая, ...</td>\n",
       "      <td>99.99</td>\n",
       "      <td>Товары для детей</td>\n",
       "      <td>Игрушки и творчество</td>\n",
       "      <td>NaN</td>\n",
       "      <td>99.99</td>\n",
       "      <td>19.99</td>\n",
       "      <td>Товары для дома и дачи</td>\n",
       "      <td>Канцелярские товары</td>\n",
       "    </tr>\n",
       "  </tbody>\n",
       "</table>\n",
       "</div>"
      ],
      "text/plain": [
       "                                                    name  price_cur_x  \\\n",
       "11062  Набор для творчества Колорит Гравюра большая, ...        99.99   \n",
       "\n",
       "             category_x         subcategory_x  price_prev_x  price_prev_y  \\\n",
       "11062  Товары для детей  Игрушки и творчество           NaN         99.99   \n",
       "\n",
       "       price_cur_y              category_y        subcategory_y  \n",
       "11062        19.99  Товары для дома и дачи  Канцелярские товары  "
      ]
     },
     "execution_count": 156,
     "metadata": {},
     "output_type": "execute_result"
    }
   ],
   "source": [
    "df_m = df_m[df_m.price_cur_x.notna() & df_m.price_cur_y.notna()]\n",
    "\n",
    "df_m[df_m.price_cur_x != df_m.price_cur_y]"
   ]
  },
  {
   "cell_type": "code",
   "execution_count": 133,
   "id": "07fd88ef",
   "metadata": {},
   "outputs": [],
   "source": [
    "df = df.drop_duplicates(subset=\"name\")"
   ]
  },
  {
   "cell_type": "code",
   "execution_count": 135,
   "id": "a7325f95",
   "metadata": {},
   "outputs": [
    {
     "data": {
      "text/html": [
       "<div>\n",
       "<style scoped>\n",
       "    .dataframe tbody tr th:only-of-type {\n",
       "        vertical-align: middle;\n",
       "    }\n",
       "\n",
       "    .dataframe tbody tr th {\n",
       "        vertical-align: top;\n",
       "    }\n",
       "\n",
       "    .dataframe thead th {\n",
       "        text-align: right;\n",
       "    }\n",
       "</style>\n",
       "<table border=\"1\" class=\"dataframe\">\n",
       "  <thead>\n",
       "    <tr style=\"text-align: right;\">\n",
       "      <th></th>\n",
       "      <th>name</th>\n",
       "      <th>price_cur</th>\n",
       "      <th>category</th>\n",
       "      <th>subcategory</th>\n",
       "      <th>price_prev</th>\n",
       "    </tr>\n",
       "  </thead>\n",
       "  <tbody>\n",
       "    <tr>\n",
       "      <th>1</th>\n",
       "      <td>Средство защиты от мух \"Капкан\" Липкая лента ,...</td>\n",
       "      <td>79.99</td>\n",
       "      <td>Товары для дома и дачи</td>\n",
       "      <td>Товары для садоводства</td>\n",
       "      <td>119.90</td>\n",
       "    </tr>\n",
       "    <tr>\n",
       "      <th>5</th>\n",
       "      <td>Грунт универсальный торфяной, 10л</td>\n",
       "      <td>9.99</td>\n",
       "      <td>Товары для дома и дачи</td>\n",
       "      <td>Товары для садоводства</td>\n",
       "      <td>49.99</td>\n",
       "    </tr>\n",
       "    <tr>\n",
       "      <th>6</th>\n",
       "      <td>Наклейки для маркировки рассады СЗТК, 40шт</td>\n",
       "      <td>9.99</td>\n",
       "      <td>Товары для дома и дачи</td>\n",
       "      <td>Товары для садоводства</td>\n",
       "      <td>39.99</td>\n",
       "    </tr>\n",
       "    <tr>\n",
       "      <th>8</th>\n",
       "      <td>Перчатки трикотажные с ПВХ-покрытием \"Точка\", ...</td>\n",
       "      <td>9.99</td>\n",
       "      <td>Товары для дома и дачи</td>\n",
       "      <td>Товары для садоводства</td>\n",
       "      <td>90.00</td>\n",
       "    </tr>\n",
       "    <tr>\n",
       "      <th>9</th>\n",
       "      <td>Почвогрунт \"ЭКЗО\" Универсальный, 10л</td>\n",
       "      <td>55.99</td>\n",
       "      <td>Товары для дома и дачи</td>\n",
       "      <td>Товары для садоводства</td>\n",
       "      <td>79.99</td>\n",
       "    </tr>\n",
       "    <tr>\n",
       "      <th>...</th>\n",
       "      <td>...</td>\n",
       "      <td>...</td>\n",
       "      <td>...</td>\n",
       "      <td>...</td>\n",
       "      <td>...</td>\n",
       "    </tr>\n",
       "    <tr>\n",
       "      <th>20945</th>\n",
       "      <td>Десерт творожный взбитый \"Чудо\" Персик-Маракуй...</td>\n",
       "      <td>49.99</td>\n",
       "      <td>Молочные продукты, яйца</td>\n",
       "      <td>Йогурты</td>\n",
       "      <td>51.49</td>\n",
       "    </tr>\n",
       "    <tr>\n",
       "      <th>20956</th>\n",
       "      <td>Десерт творожный взбитый \"Чудо\" Малина-Ежевика...</td>\n",
       "      <td>49.99</td>\n",
       "      <td>Молочные продукты, яйца</td>\n",
       "      <td>Йогурты</td>\n",
       "      <td>51.99</td>\n",
       "    </tr>\n",
       "    <tr>\n",
       "      <th>21145</th>\n",
       "      <td>Творожок \"Даниссимо\" Пломбир, 110г</td>\n",
       "      <td>44.99</td>\n",
       "      <td>Молочные продукты, яйца</td>\n",
       "      <td>Йогурты</td>\n",
       "      <td>46.49</td>\n",
       "    </tr>\n",
       "    <tr>\n",
       "      <th>21346</th>\n",
       "      <td>Продукт творожный \"Даниссимо\" Крем-брюле, 5,5%...</td>\n",
       "      <td>44.99</td>\n",
       "      <td>Молочные продукты, яйца</td>\n",
       "      <td>Йогурты</td>\n",
       "      <td>46.99</td>\n",
       "    </tr>\n",
       "    <tr>\n",
       "      <th>21489</th>\n",
       "      <td>Продукт творожный \"Даниссимо\" Спелый персик, 5...</td>\n",
       "      <td>44.99</td>\n",
       "      <td>Молочные продукты, яйца</td>\n",
       "      <td>Йогурты</td>\n",
       "      <td>46.99</td>\n",
       "    </tr>\n",
       "  </tbody>\n",
       "</table>\n",
       "<p>6831 rows × 5 columns</p>\n",
       "</div>"
      ],
      "text/plain": [
       "                                                    name  price_cur  \\\n",
       "1      Средство защиты от мух \"Капкан\" Липкая лента ,...      79.99   \n",
       "5                      Грунт универсальный торфяной, 10л       9.99   \n",
       "6             Наклейки для маркировки рассады СЗТК, 40шт       9.99   \n",
       "8      Перчатки трикотажные с ПВХ-покрытием \"Точка\", ...       9.99   \n",
       "9                   Почвогрунт \"ЭКЗО\" Универсальный, 10л      55.99   \n",
       "...                                                  ...        ...   \n",
       "20945  Десерт творожный взбитый \"Чудо\" Персик-Маракуй...      49.99   \n",
       "20956  Десерт творожный взбитый \"Чудо\" Малина-Ежевика...      49.99   \n",
       "21145                 Творожок \"Даниссимо\" Пломбир, 110г      44.99   \n",
       "21346  Продукт творожный \"Даниссимо\" Крем-брюле, 5,5%...      44.99   \n",
       "21489  Продукт творожный \"Даниссимо\" Спелый персик, 5...      44.99   \n",
       "\n",
       "                      category             subcategory  price_prev  \n",
       "1       Товары для дома и дачи  Товары для садоводства      119.90  \n",
       "5       Товары для дома и дачи  Товары для садоводства       49.99  \n",
       "6       Товары для дома и дачи  Товары для садоводства       39.99  \n",
       "8       Товары для дома и дачи  Товары для садоводства       90.00  \n",
       "9       Товары для дома и дачи  Товары для садоводства       79.99  \n",
       "...                        ...                     ...         ...  \n",
       "20945  Молочные продукты, яйца                 Йогурты       51.49  \n",
       "20956  Молочные продукты, яйца                 Йогурты       51.99  \n",
       "21145  Молочные продукты, яйца                 Йогурты       46.49  \n",
       "21346  Молочные продукты, яйца                 Йогурты       46.99  \n",
       "21489  Молочные продукты, яйца                 Йогурты       46.99  \n",
       "\n",
       "[6831 rows x 5 columns]"
      ]
     },
     "execution_count": 135,
     "metadata": {},
     "output_type": "execute_result"
    }
   ],
   "source": [
    "df[df.price_cur.notna() & df.price_prev.notna()]"
   ]
  }
 ],
 "metadata": {
  "kernelspec": {
   "display_name": "Python 3 (ipykernel)",
   "language": "python",
   "name": "python3"
  },
  "language_info": {
   "codemirror_mode": {
    "name": "ipython",
    "version": 3
   },
   "file_extension": ".py",
   "mimetype": "text/x-python",
   "name": "python",
   "nbconvert_exporter": "python",
   "pygments_lexer": "ipython3",
   "version": "3.11.0"
  }
 },
 "nbformat": 4,
 "nbformat_minor": 5
}
