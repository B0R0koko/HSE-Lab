{
 "cells": [
  {
   "cell_type": "code",
   "execution_count": 38,
   "id": "78f5c753",
   "metadata": {},
   "outputs": [],
   "source": [
    "import requests\n",
    "import json\n",
    "\n",
    "from selectolax.parser import HTMLParser"
   ]
  },
  {
   "cell_type": "code",
   "execution_count": 15,
   "id": "2155d2b3",
   "metadata": {},
   "outputs": [],
   "source": [
    "params = {\n",
    "    \"page\": 2,\n",
    "    \"sort\": \"popular\",\n",
    "    \"division\": 230026,\n",
    "    \"shop_code\": 230026,\n",
    "    \"useSiteXmlIdService\": \"express\"\n",
    "}\n",
    "\n",
    "\n",
    "\n",
    "resp = requests.get(\n",
    "    \"https://dostavka.magnit.ru/api/catalog/product-list/moloko_syr_yaytsa\",\n",
    "    params=params\n",
    ").json()"
   ]
  },
  {
   "cell_type": "code",
   "execution_count": 31,
   "id": "d405287f",
   "metadata": {},
   "outputs": [],
   "source": [
    "category_html = \"\"\"<div class=\"m-menu-catalog-mobile__list\" bis_skin_checked=\"1\"><a href=\"/catalog/podarki_lyubimym_mm\" class=\"app-link m-menu-item m-menu-catalog-mobile__link is-active\" data-test-id=\"left-catalog-item\" item=\"[object Object]\"> <span data-test-id=\"left-catalog-item-title\" class=\"m-menu-item__text\">Подарки любимым</span> </a><a href=\"/catalog/rumyanaya_maslenitsa_mm\" class=\"app-link m-menu-item m-menu-catalog-mobile__link is-active\" data-test-id=\"left-catalog-item\" item=\"[object Object]\"> <span data-test-id=\"left-catalog-item-title\" class=\"m-menu-item__text\">Румяная Масленица</span> </a><a href=\"/catalog/prazdnichnyy_fevral\" class=\"app-link m-menu-item m-menu-catalog-mobile__link is-active\" data-test-id=\"left-catalog-item\" item=\"[object Object]\"> <span data-test-id=\"left-catalog-item-title\" class=\"m-menu-item__text\">Праздничный февраль</span> </a><a href=\"/catalog/tvoya_zabota_emu_k_litsu\" class=\"app-link m-menu-item m-menu-catalog-mobile__link is-active\" data-test-id=\"left-catalog-item\" item=\"[object Object]\"> <span data-test-id=\"left-catalog-item-title\" class=\"m-menu-item__text\">Ваша забота ему к лицу</span> </a><a href=\"/catalog/gotovaya_eda\" class=\"app-link m-menu-item m-menu-catalog-mobile__link is-active\" data-test-id=\"left-catalog-item\" item=\"[object Object]\"> <span data-test-id=\"left-catalog-item-title\" class=\"m-menu-item__text\">Готовая еда</span> </a><a href=\"/catalog/ovoshchi_frukty\" class=\"app-link m-menu-item m-menu-catalog-mobile__link is-active\" data-test-id=\"left-catalog-item\" item=\"[object Object]\"> <span data-test-id=\"left-catalog-item-title\" class=\"m-menu-item__text\">Овощи и фрукты</span> </a><a href=\"/catalog/myaso_ptitsa_kolbasy\" class=\"app-link m-menu-item m-menu-catalog-mobile__link is-active\" data-test-id=\"left-catalog-item\" item=\"[object Object]\"> <span data-test-id=\"left-catalog-item-title\" class=\"m-menu-item__text\">Мясо, птица</span> </a><a href=\"/catalog/sosiski_kolbasy_delikatesy\" class=\"app-link m-menu-item m-menu-catalog-mobile__link is-active\" data-test-id=\"left-catalog-item\" item=\"[object Object]\"> <span data-test-id=\"left-catalog-item-title\" class=\"m-menu-item__text\">Сосиски, колбасы, деликатесы</span> </a><a href=\"/catalog/ryba_moreprodukty\" class=\"app-link m-menu-item m-menu-catalog-mobile__link is-active\" data-test-id=\"left-catalog-item\" item=\"[object Object]\"> <span data-test-id=\"left-catalog-item-title\" class=\"m-menu-item__text\">Рыба и морепродукты</span> </a><a href=\"/catalog/moloko_syr_yaytsa\" class=\"app-link m-menu-item m-menu-catalog-mobile__link nuxt-link-active is-active\" data-test-id=\"left-catalog-item\" item=\"[object Object]\"> <span data-test-id=\"left-catalog-item-title\" class=\"m-menu-item__text\">Молоко, сыр, яйца</span> </a><a href=\"/catalog/bakaleya_sousy\" class=\"app-link m-menu-item m-menu-catalog-mobile__link is-active\" data-test-id=\"left-catalog-item\" item=\"[object Object]\"> <span data-test-id=\"left-catalog-item-title\" class=\"m-menu-item__text\">Бакалея, соусы</span> </a><a href=\"/catalog/zamorozhennye_produkty\" class=\"app-link m-menu-item m-menu-catalog-mobile__link is-active\" data-test-id=\"left-catalog-item\" item=\"[object Object]\"> <span data-test-id=\"left-catalog-item-title\" class=\"m-menu-item__text\">Замороженные продукты</span> </a><a href=\"/catalog/konservy_myed_varene\" class=\"app-link m-menu-item m-menu-catalog-mobile__link is-active\" data-test-id=\"left-catalog-item\" item=\"[object Object]\"> <span data-test-id=\"left-catalog-item-title\" class=\"m-menu-item__text\">Консервы, мёд, варенье</span> </a><a href=\"/catalog/napitki_soki_voda\" class=\"app-link m-menu-item m-menu-catalog-mobile__link is-active\" data-test-id=\"left-catalog-item\" item=\"[object Object]\"> <span data-test-id=\"left-catalog-item-title\" class=\"m-menu-item__text\">Напитки</span> </a><a href=\"/catalog/khleb_vypechka_sneki\" class=\"app-link m-menu-item m-menu-catalog-mobile__link is-active\" data-test-id=\"left-catalog-item\" item=\"[object Object]\"> <span data-test-id=\"left-catalog-item-title\" class=\"m-menu-item__text\">Хлеб, выпечка</span> </a><a href=\"/catalog/chipsy_orekhi_sukhariki\" class=\"app-link m-menu-item m-menu-catalog-mobile__link is-active\" data-test-id=\"left-catalog-item\" item=\"[object Object]\"> <span data-test-id=\"left-catalog-item-title\" class=\"m-menu-item__text\">Чипсы, орехи, сухарики</span> </a><a href=\"/catalog/chay_kofe_kakao\" class=\"app-link m-menu-item m-menu-catalog-mobile__link is-active\" data-test-id=\"left-catalog-item\" item=\"[object Object]\"> <span data-test-id=\"left-catalog-item-title\" class=\"m-menu-item__text\">Чай, кофе, какао</span> </a><a href=\"/catalog/sladosti_torty_pirozhnye\" class=\"app-link m-menu-item m-menu-catalog-mobile__link is-active\" data-test-id=\"left-catalog-item\" item=\"[object Object]\"> <span data-test-id=\"left-catalog-item-title\" class=\"m-menu-item__text\">Сладости, торты, пирожные</span> </a><a href=\"/catalog/zdorovoe_pitanie_\" class=\"app-link m-menu-item m-menu-catalog-mobile__link is-active\" data-test-id=\"left-catalog-item\" item=\"[object Object]\"> <span data-test-id=\"left-catalog-item-title\" class=\"m-menu-item__text\">Здоровое питание</span> </a><a href=\"/catalog/zootovary\" class=\"app-link m-menu-item m-menu-catalog-mobile__link is-active\" data-test-id=\"left-catalog-item\" item=\"[object Object]\"> <span data-test-id=\"left-catalog-item-title\" class=\"m-menu-item__text\">Зоотовары</span> </a><a href=\"/catalog/kosmetika_i_gigiena\" class=\"app-link m-menu-item m-menu-catalog-mobile__link is-active\" data-test-id=\"left-catalog-item\" item=\"[object Object]\"> <span data-test-id=\"left-catalog-item-title\" class=\"m-menu-item__text\">Красота, уход</span> </a><a href=\"/catalog/gigiena_muzhskaya_zhenskaya\" class=\"app-link m-menu-item m-menu-catalog-mobile__link is-active\" data-test-id=\"left-catalog-item\" item=\"[object Object]\"> <span data-test-id=\"left-catalog-item-title\" class=\"m-menu-item__text\">Гигиена</span> </a><a href=\"/catalog/detskie_tovary_\" class=\"app-link m-menu-item m-menu-catalog-mobile__link is-active\" data-test-id=\"left-catalog-item\" item=\"[object Object]\"> <span data-test-id=\"left-catalog-item-title\" class=\"m-menu-item__text\">Детские товары</span> </a><a href=\"/catalog/bytovaya_khimiya_i_uborka\" class=\"app-link m-menu-item m-menu-catalog-mobile__link is-active\" data-test-id=\"left-catalog-item\" item=\"[object Object]\"> <span data-test-id=\"left-catalog-item-title\" class=\"m-menu-item__text\">Бытовая химия и уборка</span> </a><a href=\"/catalog/bytovaya_tekhnika_i_elektronika\" class=\"app-link m-menu-item m-menu-catalog-mobile__link is-active\" data-test-id=\"left-catalog-item\" item=\"[object Object]\"> <span data-test-id=\"left-catalog-item-title\" class=\"m-menu-item__text\">Бытовая техника и электроника</span> </a><a href=\"/catalog/sport_i_aktivnyy_otdykh\" class=\"app-link m-menu-item m-menu-catalog-mobile__link is-active\" data-test-id=\"left-catalog-item\" item=\"[object Object]\"> <span data-test-id=\"left-catalog-item-title\" class=\"m-menu-item__text\">Спорт и активный отдых</span> </a><a href=\"/catalog/tovary_dlya_doma_dachi_avto\" class=\"app-link m-menu-item m-menu-catalog-mobile__link is-active\" data-test-id=\"left-catalog-item\" item=\"[object Object]\"> <span data-test-id=\"left-catalog-item-title\" class=\"m-menu-item__text\">Товары для дома, дачи, авто</span> </a><a href=\"/catalog/pervaya_pomoshch\" class=\"app-link m-menu-item m-menu-catalog-mobile__link is-active\" data-test-id=\"left-catalog-item\" item=\"[object Object]\"> <span data-test-id=\"left-catalog-item-title\" class=\"m-menu-item__text\">Первая помощь</span> </a><a href=\"/catalog/odezhda_i_obuv\" class=\"app-link m-menu-item m-menu-catalog-mobile__link is-active\" data-test-id=\"left-catalog-item\" item=\"[object Object]\"> <span data-test-id=\"left-catalog-item-title\" class=\"m-menu-item__text\">Чулки, носки</span> </a><a href=\"/catalog/medtovary_\" class=\"app-link m-menu-item m-menu-catalog-mobile__link is-active\" data-test-id=\"left-catalog-item\" item=\"[object Object]\"> <span data-test-id=\"left-catalog-item-title\" class=\"m-menu-item__text\">Медтовары</span> </a><a href=\"/catalog/darite_lyubimym_vkusnye_momenty\" class=\"app-link m-menu-item m-menu-catalog-mobile__link is-active\" data-test-id=\"left-catalog-item\" item=\"[object Object]\"> <span data-test-id=\"left-catalog-item-title\" class=\"m-menu-item__text\">Дарите любимым вкусные моменты</span> </a><a href=\"/catalog/felix_vygodno_i_vkusno\" class=\"app-link m-menu-item m-menu-catalog-mobile__link is-active\" data-test-id=\"left-catalog-item\" item=\"[object Object]\"> <span data-test-id=\"left-catalog-item-title\" class=\"m-menu-item__text\">Felix — выгодно и вкусно!</span> </a><a href=\"/catalog/bliny_s_nutella_stor\" class=\"app-link m-menu-item m-menu-catalog-mobile__link is-active\" data-test-id=\"left-catalog-item\" item=\"[object Object]\"> <span data-test-id=\"left-catalog-item-title\" class=\"m-menu-item__text\">Блины с Nutella</span> </a><a href=\"/catalog/vkus_priklyucheniy_s_vladom_a4\" class=\"app-link m-menu-item m-menu-catalog-mobile__link is-active\" data-test-id=\"left-catalog-item\" item=\"[object Object]\"> <span data-test-id=\"left-catalog-item-title\" class=\"m-menu-item__text\">Вкус приключений с Владом А4</span> </a><a href=\"/catalog/naturalno_i_polezno_dlya_vashego_malysha\" class=\"app-link m-menu-item m-menu-catalog-mobile__link is-active\" data-test-id=\"left-catalog-item\" item=\"[object Object]\"> <span data-test-id=\"left-catalog-item-title\" class=\"m-menu-item__text\">Натурально и полезно для вашего малыша</span> </a><a href=\"/catalog/prizy_i_skidki_ot_magnat_i_magnit\" class=\"app-link m-menu-item m-menu-catalog-mobile__link is-active\" data-test-id=\"left-catalog-item\" item=\"[object Object]\"> <span data-test-id=\"left-catalog-item-title\" class=\"m-menu-item__text\">Призы и скидки от Магнат и Магнит!</span> </a><a href=\"/catalog/k_maslenitse_stor\" class=\"app-link m-menu-item m-menu-catalog-mobile__link is-active\" data-test-id=\"left-catalog-item\" item=\"[object Object]\"> <span data-test-id=\"left-catalog-item-title\" class=\"m-menu-item__text\">К масленице</span> </a><a href=\"/catalog/keshbek_ot_kitekat\" class=\"app-link m-menu-item m-menu-catalog-mobile__link is-active\" data-test-id=\"left-catalog-item\" item=\"[object Object]\"> <span data-test-id=\"left-catalog-item-title\" class=\"m-menu-item__text\">Кешбэк от KiteKat</span> </a></div>\"\"\""
   ]
  },
  {
   "cell_type": "code",
   "execution_count": 21,
   "id": "a223ff6e",
   "metadata": {},
   "outputs": [
    {
     "data": {
      "text/plain": [
       "27"
      ]
     },
     "execution_count": 21,
     "metadata": {},
     "output_type": "execute_result"
    }
   ],
   "source": [
    "resp[\"count\"] // 20"
   ]
  },
  {
   "cell_type": "code",
   "execution_count": 32,
   "id": "f7f38b82",
   "metadata": {},
   "outputs": [],
   "source": [
    "dom =  HTMLParser(category_html)"
   ]
  },
  {
   "cell_type": "code",
   "execution_count": 37,
   "id": "383061da",
   "metadata": {},
   "outputs": [],
   "source": [
    "categories = [\n",
    "    el.attributes[\"href\"] for el in dom.css(\"div.m-menu-catalog-mobile__list > a\")\n",
    "]"
   ]
  },
  {
   "cell_type": "code",
   "execution_count": 40,
   "id": "6cbf8e55",
   "metadata": {},
   "outputs": [],
   "source": [
    "with open(\"cfg/categories.json\", \"w\") as file:\n",
    "    json.dump({\n",
    "        \"categories\": categories\n",
    "    }, file)"
   ]
  }
 ],
 "metadata": {
  "kernelspec": {
   "display_name": "Python 3 (ipykernel)",
   "language": "python",
   "name": "python3"
  },
  "language_info": {
   "codemirror_mode": {
    "name": "ipython",
    "version": 3
   },
   "file_extension": ".py",
   "mimetype": "text/x-python",
   "name": "python",
   "nbconvert_exporter": "python",
   "pygments_lexer": "ipython3",
   "version": "3.11.0"
  },
  "vscode": {
   "interpreter": {
    "hash": "fc6efef9618ebc5630dda71db9e875dc116846ac145f8d82c65d77bae5dbcac4"
   }
  }
 },
 "nbformat": 4,
 "nbformat_minor": 5
}
