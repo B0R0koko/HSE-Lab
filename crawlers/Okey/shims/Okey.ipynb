{
 "cells": [
  {
   "cell_type": "code",
   "execution_count": 1,
   "id": "68b1d164",
   "metadata": {},
   "outputs": [],
   "source": [
    "import requests"
   ]
  },
  {
   "cell_type": "code",
   "execution_count": 7,
   "id": "aa7312e0",
   "metadata": {},
   "outputs": [],
   "source": [
    "resp = requests.get(\n",
    "    \"https://sbermarket.ru/metro?sid=83\"\n",
    ")"
   ]
  },
  {
   "cell_type": "code",
   "execution_count": 8,
   "id": "e68a62ad",
   "metadata": {},
   "outputs": [
    {
     "data": {
      "text/plain": [
       "'<!DOCTYPE html><html lang=en><head><meta charset=\"utf-8\" /><meta name=viewport content=\"width=device-width, initial-scale=1\" /><style>body{box-sizing:border-box;display:flex;height:100vh;margin:0;padding:0;text-align:center;font-family:sans-serif;font-weight:normal;font-size:16px;line-height:160%;color:#113a60;background-color:#f2f2f2}.c1{display:flex;flex-direction:column;margin:auto auto}h1{max-width:780px;width:100%;font-weight:normal;font-size:40px;line-height:140%;margin:0 auto;word-break:break-word}h3{font-weight:normal;font-size:16px;line-height:160%;margin:16px auto}.c2{max-width:980px;width:100%;margin:0 auto}.c{box-sizing:border-box;position:relative;max-width:fit-content;display:flex;align-items:center;flex-wrap:wrap;margin-top:146px;margin-left:auto;padding:15px 0 15px 20px;border:1px solid #d4e0eb;color:#515a63;cursor:pointer}.c:last-child{margin-top:48px;}.c:hover>.v{opacity:1}#w,#q{margin:0 4px 0 4px;font-family:sans-serif;font-weight:normal;font-size:16px;line-height:160%;color:#515a63;border:0;background-color:transparent}#w:focus,#q:focus{border:0;outline:0;background-color:transparent}button{border:0;background-color:transparent;cursor:pointer;outline:0;z-index:1}button>svg{display:flex;margin: 0 15px 0 auto;width:15px;height:16px}.v{position:absolute;width:93px;height:32px;display:flex;align-items:center;justify-content:center;top:42px;right:-45px;border-radius:2px;font-size:10px;line-height:132%;color:#93a2af;background-color:#fff;opacity:0;transition:.3s;box-shadow:0 3px 15px rgba(0,0,0,0.08)}.v:after{content:\\'\\';position:absolute;top:-11px;left:14px;border:7px solid transparent;border-bottom:7px solid #fff}@media(max-width:1365px){body{max-width:1000px;margin:0 auto;padding:11px}.c:last-child{margin-bottom:70px}}@media(max-width:1023px){body{max-width:750px}.c{margin-top:75px}.c:last-child{margin-top:48px}}@media(max-width:767px){body{max-width:542px;margin:0 auto;padding:11px}.c1{margin-top:15%}h1{font-size:28px}h3{font-size:14px}.c{max-width:100%;margin-right:auto;text-align:center}.c:last-child{margin-bottom:0}button{margin-left:auto}.v{display:none}}@media(max-width:576px){body{max-width:450px}}</style></head><body><div class=c1><h1>СберМаркет не открывается. Если у вас работает VPN, отключите его.</h1><h3>Если считаете, что произошла ошибка, свяжитесь с владельцем веб-ресурса</h3><div class=c2><div class=c>Ваш IP адрес:<input id=q type=text size=18 value=\"212.230.174.31\"><button type=button onclick=\"copy(\\'q\\')\"><svg viewBox=\"0 0 10 13\" fill=none xmlns=\"http://www.w3.org/2000/svg\"><path id=e d=\"M8.5 11H3V4h5.5v7zm0-8H3a1 1 0 00-.7.3A1 1 0 002 4v7c0 .3 0 .5.3.7.2.2.4.3.7.3h5.5c.3 0 .5-.1.7-.3.2-.2.3-.4.3-.7V4a1 1 0 00-.3-.7 1 1 0 00-.7-.3zM7 1H1a1 1 0 00-.7.3A1 1 0 000 2v7h1V2h6V1z\" fill=\"#93A2AF\"/></svg></button><span class=v>Скопировать</span></div><div class=c>Ваш ID запроса к ресурсу:<input id=w type=text size=34 value=\"506ccef38ace9ddb04d0a8ed82224d8c\"><button type=button onclick=\"copy(\\'w\\')\"><svg viewBox=\"0 0 10 13\" fill=none xmlns=\"http://www.w3.org/2000/svg\"><use xlink:href=#e /></svg></button><span class=v>Скопировать</span></div></div></div><script>function copy(a){document.getElementById(a).select();document.execCommand(\"copy\")};</script></body></html>'"
      ]
     },
     "execution_count": 8,
     "metadata": {},
     "output_type": "execute_result"
    }
   ],
   "source": [
    "resp.text"
   ]
  }
 ],
 "metadata": {
  "kernelspec": {
   "display_name": "Python 3 (ipykernel)",
   "language": "python",
   "name": "python3"
  },
  "language_info": {
   "codemirror_mode": {
    "name": "ipython",
    "version": 3
   },
   "file_extension": ".py",
   "mimetype": "text/x-python",
   "name": "python",
   "nbconvert_exporter": "python",
   "pygments_lexer": "ipython3",
   "version": "3.11.0"
  }
 },
 "nbformat": 4,
 "nbformat_minor": 5
}
