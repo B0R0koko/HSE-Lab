{
 "cells": [
  {
   "cell_type": "code",
   "execution_count": 3,
   "id": "0c7eec33",
   "metadata": {},
   "outputs": [],
   "source": [
    "import requests\n",
    "\n",
    "from selectolax.parser import HTMLParser"
   ]
  },
  {
   "cell_type": "code",
   "execution_count": 4,
   "id": "0f04ccdc",
   "metadata": {},
   "outputs": [],
   "source": [
    "header_str = \"\"\"accept: application/json, text/plain, */*\n",
    "accept-encoding: gzip, deflate, br\n",
    "accept-language: ru-RU,ru;q=0.9,en-US;q=0.8,en;q=0.7\n",
    "client-token: 7ba97b6f4049436dab90c789f946ee2f\n",
    "cookie: external_analytics_anonymous_id=8f4e5542-b557-4c49-abc3-ffba74fad8e1; city_info=%7B%22slug%22%3A%22moscow%22%2C%22name%22%3A%22%D0%9C%D0%BE%D1%81%D0%BA%D0%B2%D0%B0%22%2C%22lat%22%3A55.7483%2C%22lon%22%3A37.6171%7D; _pk_id.6.3ec0=613406e869a8f899.1675411994.; _sa=SA1.c99dc97d-faeb-4252-8772-01f63c5e5523.1675411993; mindboxDeviceUUID=4929db8d-93f6-47d7-ac97-fa45d82811c4; directCrm-session=%7B%22deviceGuid%22%3A%224929db8d-93f6-47d7-ac97-fa45d82811c4%22%7D; rl_page_init_referrer=RudderEncrypt%3AU2FsdGVkX1%2FAgqTq0J%2F5U%2BcNHMqWs13kgnIuFWlEl4J3TmuJO2GwXrM4Jr%2Bq1FPt; rl_page_init_referring_domain=RudderEncrypt%3AU2FsdGVkX19qmS5gNlUDBePM7McPyRtTMdG%2Bl7w7ijs%3D; iap.uid=5ecad755de584fa1802ee9c0df55b0de; tmr_lvid=cb2af5cbac5110034139cb4c164c5683; tmr_lvidTS=1675411995033; rrpvid=929908304931887; _ym_uid=1675411995803187363; _ym_d=1675411995; flocktory-uuid=64d82f4e-c1df-4b0e-ad34-bf8f4c5d1337-7; rcuid=63d26116523fdc785493df38; adtech_uid=7e4b2f9a-42ef-453c-a3bf-8ab817fda1e7%3Asbermarket.ru; top100_id=t1.7588506.434154833.1675411996293; adrcid=AKqYxEm2wiMj5beXMpD61Og; cookies_consented=yes; identified_address=true; ngenix_jscv_cd881f1695eb=cookie_expires=1677071189&cookie_signature=r0Ao7JLG5vf7iAF2li5xZwrYLo8%3D; _pk_ses.6.3ec0=1; sessionId=1677067594248610083; adrdel=1; ssrMedia={%22windowWidth%22:880%2C%22primaryInput%22:%22mouse%22}; rl_group_id=RudderEncrypt%3AU2FsdGVkX1%2BtADZjQLfAG5iZePELDGvg2npK8NfG2mQ%3D; rl_group_trait=RudderEncrypt%3AU2FsdGVkX18wLhTvPgqGF9WkVBUAEiiEC6o0fYZsmVM%3D; _808db7ba1248=%5B%7B%22source%22%3A%22sbermarket.ru%22%2C%22medium%22%3A%22referral%22%2C%22cookie_changed_at%22%3A1677069673%7D%2C%7B%22source%22%3A%22%28direct%29%22%2C%22medium%22%3A%22%28none%29%22%2C%22cookie_changed_at%22%3A1677069678%7D%5D; rl_anonymous_id=RudderEncrypt%3AU2FsdGVkX1%2FKdbrBoMbUqCzxAdyGEJaGpeJukim2y9EckLtR%2Fq99Ysut1mQJ085j%2BGUaF8fL5zkIfDGvvjVa%2FQ%3D%3D; rl_user_id=RudderEncrypt%3AU2FsdGVkX186AjWCt3e%2BkH%2BvL9N7nt2i6jOxs40ihEg%3D; rl_trait=RudderEncrypt%3AU2FsdGVkX18xNZ9naEifWLnUauISCwXoG1iOlQjIk2hOI%2B7PazZiEqA5xO%2FjU6qXOt%2FJBmsc45lCcu0pqnYVJYoZIUkK0R4ZQY5qCUxOpQ5akyOAGfcm60U3itsBidUMnNyC1ow2qJDFu%2Fnn9VU4YT0SDWsdnu3%2FKZzCIJ%2BHuBrOUUGmZV7FvNbkZxomL3OH1KhBliEVlPhEQjsdxT5bNusMlSjL8lG%2FD0M4SgBRj4VCcuLiPwMVETLr0M7FVyCLjzZdsCbXizUReE%2B%2FcpE4ygPmO%2Bov9CSdLlCpkR1aJ839t%2Bbf%2BtkSwDut6BA2mw8Et273%2BpL4AdbJG6isGcNoHvuWEJBca%2FHW%2FZIvVfNxWn2ALNMoCRcEM0CBfQfUMBz26IrNp1v1Ku7V6sAzdPNXEw%3D%3D; _Instamart_session=YnFFa255T0ZPMzRNOUFNak0zVGJHMHFRTUtCSWtwa1N4Ny9oVTRIQnRRbXUxQnoyL0hjcU9CNW5USk40SlBLTnRsQnV0VndkMEdPSkVHcG0zdFFkZGtlaXRSMmtyRnA0ZmxLNDRIU0VhT2I5bFFPdTlIZ1M2elcwU1VXUTgxNUN5Ry92NDVITmhjWnpLYWxpMzdhbmdYSjdwRCtkSE1HcEJwZzRpNUdsTFBXNDRyQUZzc1c4RVoxSGZiYUFQcC90MnlwT2lPU21PQUN5KzRTYUVVK1Zhdz09LS01ZlNUSWlsVHdrdXJ6RFd4QmtWaStnPT0%3D--c4270c94868b50e7408c74f0dc6b3fde38511b6f; last_visit=1677066087955%3A%3A1677069687955; tmr_detect=0%7C1677069698290; t3_sid_7588506=s1.1615772629.1677067597921.1677069845262.2.26; rl_session=RudderEncrypt%3AU2FsdGVkX18wGPoRZBeHCO4ZjTxOaJkM1YuQxkFIVwDnMFjbDGELQEq8MXHo2oFPXvbDb1IStv1%2Fke%2FoYuBDvTD2rWSYkDtDMnhJGVPveuISa5wexJwCjubEXj4bSU%2FDQnvgihlrfM%2BDOKZ1%2FhDwog%3D%3D\n",
    "if-none-match: W/\"9406c31018865680cca39a721f9781c3\"\n",
    "is-storefront-ssr: false\n",
    "referer: http://sbermarket.ru/metro?sid=83\n",
    "sec-ch-ua: \"Not_A Brand\";v=\"99\", \"Google Chrome\";v=\"109\", \"Chromium\";v=\"109\"\n",
    "sec-ch-ua-mobile: ?0\n",
    "sec-ch-ua-platform: \"macOS\"\n",
    "sec-fetch-dest: empty\n",
    "sec-fetch-mode: cors\n",
    "sec-fetch-site: same-origin\n",
    "user-agent: Mozilla/5.0 (Macintosh; Intel Mac OS X 10_15_7) AppleWebKit/537.36 (KHTML, like Gecko) Chrome/109.0.0.0 Safari/537.36\"\"\""
   ]
  },
  {
   "cell_type": "code",
   "execution_count": 6,
   "id": "30f54810",
   "metadata": {},
   "outputs": [],
   "source": [
    "def parse_header(raw_header: str):\n",
    "    header = dict()\n",
    "\n",
    "    for line in raw_header.split(\"\\n\"):\n",
    "\n",
    "        if line.startswith(\":\"):\n",
    "            a, b = line[1:].split(\":\", 1)\n",
    "            a = f\":{a}\"\n",
    "        else:\n",
    "            a, b = line.split(\":\",1)\n",
    "\n",
    "        header[a.strip()] = b.strip()\n",
    "\n",
    "    return header"
   ]
  },
  {
   "cell_type": "code",
   "execution_count": 7,
   "id": "360998bd",
   "metadata": {},
   "outputs": [],
   "source": [
    "headers = parse_header(header_str)"
   ]
  },
  {
   "cell_type": "code",
   "execution_count": 91,
   "id": "65105247",
   "metadata": {},
   "outputs": [],
   "source": [
    "proxies = {\n",
    "    \"http\": \"85.26.146.169:80\",\n",
    "}"
   ]
  },
  {
   "cell_type": "code",
   "execution_count": 92,
   "id": "86acd57d",
   "metadata": {},
   "outputs": [],
   "source": [
    "resp = requests.get(\n",
    "    \"https://sbermarket.ru/\",\n",
    "#     headers=headers,\n",
    "    proxies=proxies,\n",
    ")"
   ]
  },
  {
   "cell_type": "code",
   "execution_count": 95,
   "id": "f04ba4ec",
   "metadata": {},
   "outputs": [
    {
     "data": {
      "text/plain": [
       "'<!DOCTYPE html><html lang=en><head><meta charset=\"utf-8\" /><meta name=viewport content=\"width=device-width, initial-scale=1\" /><style>body{box-sizing:border-box;display:flex;height:100vh;margin:0;padding:0;text-align:center;font-family:sans-serif;font-weight:normal;font-size:16px;line-height:160%;color:#113a60;background-color:#f2f2f2}.c1{display:flex;flex-direction:column;margin:auto auto}h1{max-width:780px;width:100%;font-weight:normal;font-size:40px;line-height:140%;margin:0 auto;word-break:break-word}h3{font-weight:normal;font-size:16px;line-height:160%;margin:16px auto}.c2{max-width:980px;width:100%;margin:0 auto}.c{box-sizing:border-box;position:relative;max-width:fit-content;display:flex;align-items:center;flex-wrap:wrap;margin-top:146px;margin-left:auto;padding:15px 0 15px 20px;border:1px solid #d4e0eb;color:#515a63;cursor:pointer}.c:last-child{margin-top:48px;}.c:hover>.v{opacity:1}#w,#q{margin:0 4px 0 4px;font-family:sans-serif;font-weight:normal;font-size:16px;line-height:160%;color:#515a63;border:0;background-color:transparent}#w:focus,#q:focus{border:0;outline:0;background-color:transparent}button{border:0;background-color:transparent;cursor:pointer;outline:0;z-index:1}button>svg{display:flex;margin: 0 15px 0 auto;width:15px;height:16px}.v{position:absolute;width:93px;height:32px;display:flex;align-items:center;justify-content:center;top:42px;right:-45px;border-radius:2px;font-size:10px;line-height:132%;color:#93a2af;background-color:#fff;opacity:0;transition:.3s;box-shadow:0 3px 15px rgba(0,0,0,0.08)}.v:after{content:\\'\\';position:absolute;top:-11px;left:14px;border:7px solid transparent;border-bottom:7px solid #fff}@media(max-width:1365px){body{max-width:1000px;margin:0 auto;padding:11px}.c:last-child{margin-bottom:70px}}@media(max-width:1023px){body{max-width:750px}.c{margin-top:75px}.c:last-child{margin-top:48px}}@media(max-width:767px){body{max-width:542px;margin:0 auto;padding:11px}.c1{margin-top:15%}h1{font-size:28px}h3{font-size:14px}.c{max-width:100%;margin-right:auto;text-align:center}.c:last-child{margin-bottom:0}button{margin-left:auto}.v{display:none}}@media(max-width:576px){body{max-width:450px}}</style></head><body><div class=c1><h1>СберМаркет не открывается. Если у вас работает VPN, отключите его.</h1><h3>Если считаете, что произошла ошибка, свяжитесь с владельцем веб-ресурса</h3><div class=c2><div class=c>Ваш IP адрес:<input id=q type=text size=18 value=\"212.230.174.31\"><button type=button onclick=\"copy(\\'q\\')\"><svg viewBox=\"0 0 10 13\" fill=none xmlns=\"http://www.w3.org/2000/svg\"><path id=e d=\"M8.5 11H3V4h5.5v7zm0-8H3a1 1 0 00-.7.3A1 1 0 002 4v7c0 .3 0 .5.3.7.2.2.4.3.7.3h5.5c.3 0 .5-.1.7-.3.2-.2.3-.4.3-.7V4a1 1 0 00-.3-.7 1 1 0 00-.7-.3zM7 1H1a1 1 0 00-.7.3A1 1 0 000 2v7h1V2h6V1z\" fill=\"#93A2AF\"/></svg></button><span class=v>Скопировать</span></div><div class=c>Ваш ID запроса к ресурсу:<input id=w type=text size=34 value=\"ea39ab8097d458a3477695586246fa57\"><button type=button onclick=\"copy(\\'w\\')\"><svg viewBox=\"0 0 10 13\" fill=none xmlns=\"http://www.w3.org/2000/svg\"><use xlink:href=#e /></svg></button><span class=v>Скопировать</span></div></div></div><script>function copy(a){document.getElementById(a).select();document.execCommand(\"copy\")};</script></body></html>'"
      ]
     },
     "execution_count": 95,
     "metadata": {},
     "output_type": "execute_result"
    }
   ],
   "source": [
    "resp.text"
   ]
  },
  {
   "cell_type": "code",
   "execution_count": 72,
   "id": "71e997db",
   "metadata": {},
   "outputs": [],
   "source": [
    "resp = requests.get(\"http://free-proxy.cz/en/proxylist/country/RU/http/ping/all\")\n",
    "dom = HTMLParser(resp.text)"
   ]
  },
  {
   "cell_type": "code",
   "execution_count": 53,
   "id": "94118218",
   "metadata": {},
   "outputs": [],
   "source": [
    "import base64\n",
    "import re"
   ]
  },
  {
   "cell_type": "code",
   "execution_count": 57,
   "id": "d3d62a39",
   "metadata": {},
   "outputs": [
    {
     "ename": "TypeError",
     "evalue": "'NoneType' object is not subscriptable",
     "output_type": "error",
     "traceback": [
      "\u001b[0;31m---------------------------------------------------------------------------\u001b[0m",
      "\u001b[0;31mTypeError\u001b[0m                                 Traceback (most recent call last)",
      "Cell \u001b[0;32mIn[57], line 1\u001b[0m\n\u001b[0;32m----> 1\u001b[0m \u001b[43mre\u001b[49m\u001b[38;5;241;43m.\u001b[39;49m\u001b[43msearch\u001b[49m\u001b[43m(\u001b[49m\u001b[38;5;124;43m\"\u001b[39;49m\u001b[38;5;124;43mdecode\u001b[39;49m\u001b[38;5;124;43m\\\u001b[39;49m\u001b[38;5;124;43m(\u001b[39;49m\u001b[38;5;130;43;01m\\\"\u001b[39;49;00m\u001b[38;5;124;43m(.*?)\u001b[39;49m\u001b[38;5;130;43;01m\\\"\u001b[39;49;00m\u001b[38;5;124;43m\\\u001b[39;49m\u001b[38;5;124;43m)\u001b[39;49m\u001b[38;5;124;43m\"\u001b[39;49m\u001b[43m,\u001b[49m\u001b[43m \u001b[49m\u001b[38;5;124;43m'\u001b[39;49m\u001b[38;5;124;43m(adsbygoogle = window.adsbygoogle || []).push(\u001b[39;49m\u001b[38;5;132;43;01m{}\u001b[39;49;00m\u001b[38;5;124;43m);\u001b[39;49m\u001b[38;5;124;43m'\u001b[39;49m\u001b[43m)\u001b[49m\u001b[43m[\u001b[49m\u001b[38;5;241;43m1\u001b[39;49m\u001b[43m]\u001b[49m\n",
      "\u001b[0;31mTypeError\u001b[0m: 'NoneType' object is not subscriptable"
     ]
    }
   ],
   "source": [
    "re.search(\"decode\\(\\\"(.*?)\\\"\\)\", '(adsbygoogle = window.adsbygoogle || []).push({});')[1]"
   ]
  },
  {
   "cell_type": "code",
   "execution_count": 87,
   "id": "29d46c09",
   "metadata": {},
   "outputs": [],
   "source": [
    "proxies = []\n",
    "\n",
    "for proxy in dom.css(\"table#proxy_list tbody > tr\"):\n",
    "    ip_addr = re.search(\n",
    "        \"decode\\(\\\"(.*?)\\\"\\)\",\n",
    "        proxy.css_first(\"td\").text()\n",
    "    )\n",
    "    port = proxy.css_first(\"td:nth-child(2) > span.fport\")\n",
    "    protocol = proxy.css_first(\"td:nth-child(3) > small\")\n",
    "    \n",
    "    if ip_addr:\n",
    "        proxies.append({\n",
    "            \"ip\": base64.b64decode(ip_addr[1]),\n",
    "            \"port\": port.text(),\n",
    "            \"protocol\": protocol.text()\n",
    "        })"
   ]
  },
  {
   "cell_type": "code",
   "execution_count": 88,
   "id": "c0fb70f5",
   "metadata": {},
   "outputs": [
    {
     "data": {
      "text/plain": [
       "[{'ip': b'40.84.24.155', 'port': '80', 'protocol': 'HTTP'},\n",
       " {'ip': b'173.0.255.16', 'port': '45554', 'protocol': 'SOCKS5'},\n",
       " {'ip': b'199.19.95.247', 'port': '1080', 'protocol': 'SOCKS5'},\n",
       " {'ip': b'199.19.95.130', 'port': '1080', 'protocol': 'SOCKS5'},\n",
       " {'ip': b'216.39.173.51', 'port': '9001', 'protocol': 'HTTPS'},\n",
       " {'ip': b'91.121.42.68', 'port': '80', 'protocol': 'HTTP'},\n",
       " {'ip': b'66.253.164.20', 'port': '45554', 'protocol': 'SOCKS5'},\n",
       " {'ip': b'69.36.65.214', 'port': '1080', 'protocol': 'SOCKS4'},\n",
       " {'ip': b'172.87.9.218', 'port': '45554', 'protocol': 'SOCKS5'},\n",
       " {'ip': b'173.0.254.238', 'port': '45554', 'protocol': 'SOCKS5'},\n",
       " {'ip': b'174.141.207.88', 'port': '45554', 'protocol': 'SOCKS5'},\n",
       " {'ip': b'162.219.230.119', 'port': '45554', 'protocol': 'SOCKS5'},\n",
       " {'ip': b'216.8.217.243', 'port': '45554', 'protocol': 'SOCKS5'},\n",
       " {'ip': b'216.171.17.119', 'port': '45554', 'protocol': 'SOCKS5'},\n",
       " {'ip': b'104.145.70.226', 'port': '45554', 'protocol': 'SOCKS5'},\n",
       " {'ip': b'54.202.219.193', 'port': '80', 'protocol': 'HTTP'},\n",
       " {'ip': b'207.177.47.42', 'port': '45554', 'protocol': 'SOCKS5'},\n",
       " {'ip': b'76.191.26.232', 'port': '45554', 'protocol': 'SOCKS5'},\n",
       " {'ip': b'216.171.16.123', 'port': '45554', 'protocol': 'SOCKS5'},\n",
       " {'ip': b'76.10.41.124', 'port': '45554', 'protocol': 'SOCKS5'},\n",
       " {'ip': b'75.103.143.93', 'port': '45554', 'protocol': 'SOCKS5'},\n",
       " {'ip': b'68.39.112.128', 'port': '13479', 'protocol': 'SOCKS5'},\n",
       " {'ip': b'173.245.150.34', 'port': '45554', 'protocol': 'SOCKS5'},\n",
       " {'ip': b'76.191.26.65', 'port': '45554', 'protocol': 'SOCKS5'},\n",
       " {'ip': b'76.10.43.164', 'port': '45554', 'protocol': 'SOCKS5'},\n",
       " {'ip': b'104.145.103.38', 'port': '45554', 'protocol': 'SOCKS5'},\n",
       " {'ip': b'24.219.71.59', 'port': '45554', 'protocol': 'SOCKS5'},\n",
       " {'ip': b'68.180.3.212', 'port': '45554', 'protocol': 'SOCKS5'},\n",
       " {'ip': b'178.213.145.24', 'port': '8080', 'protocol': 'HTTPS'},\n",
       " {'ip': b'12.35.68.239', 'port': '45554', 'protocol': 'SOCKS5'}]"
      ]
     },
     "execution_count": 88,
     "metadata": {},
     "output_type": "execute_result"
    }
   ],
   "source": [
    "proxies"
   ]
  },
  {
   "cell_type": "code",
   "execution_count": 77,
   "id": "5f2c9e15",
   "metadata": {},
   "outputs": [],
   "source": [
    "params = {\n",
    "    \"do\": \"searchFilter-submit\"\n",
    "}\n",
    "\n",
    "data = {\n",
    "    \"country\": \"RU\",\n",
    "    \"protocol\": \"http\",\n",
    "    \"anonymity\": \"all\",\n",
    "    \"send\": \"Filter proxies\"\n",
    "}"
   ]
  },
  {
   "cell_type": "code",
   "execution_count": null,
   "id": "21fe7e68",
   "metadata": {},
   "outputs": [],
   "source": [
    "ss = requests.Session()\n",
    "\n",
    "resp = ss.post(\n",
    "    \"http://free-proxy.cz/en/proxylist/country/RU/http/ping/all\",\n",
    "    params=params,\n",
    "    data=data\n",
    ")\n",
    "\n",
    "# ss.get(\n",
    "#     \"http://free-proxy.cz/en/proxylist/country/RU/http/ping/all\"\n",
    "# )"
   ]
  },
  {
   "cell_type": "code",
   "execution_count": 86,
   "id": "ca2e7a77",
   "metadata": {},
   "outputs": [
    {
     "data": {
      "text/plain": [
       "[<Node tr>,\n",
       " <Node tr>,\n",
       " <Node tr>,\n",
       " <Node tr>,\n",
       " <Node tr>,\n",
       " <Node tr>,\n",
       " <Node tr>,\n",
       " <Node tr>,\n",
       " <Node tr>,\n",
       " <Node tr>,\n",
       " <Node tr>,\n",
       " <Node tr>,\n",
       " <Node tr>,\n",
       " <Node tr>,\n",
       " <Node tr>,\n",
       " <Node tr>,\n",
       " <Node tr>,\n",
       " <Node tr>,\n",
       " <Node tr>,\n",
       " <Node tr>,\n",
       " <Node tr>,\n",
       " <Node tr>,\n",
       " <Node tr>,\n",
       " <Node tr>,\n",
       " <Node tr>,\n",
       " <Node tr>,\n",
       " <Node tr>,\n",
       " <Node tr>,\n",
       " <Node tr>,\n",
       " <Node tr>,\n",
       " <Node tr>,\n",
       " <Node tr>]"
      ]
     },
     "execution_count": 86,
     "metadata": {},
     "output_type": "execute_result"
    }
   ],
   "source": [
    "dom = HTMLParser(resp.text)\n",
    "\n",
    "dom.css(\"table#proxy_list tbody > tr\")"
   ]
  },
  {
   "cell_type": "code",
   "execution_count": null,
   "id": "0a9d14fa",
   "metadata": {},
   "outputs": [],
   "source": []
  }
 ],
 "metadata": {
  "kernelspec": {
   "display_name": "Python 3 (ipykernel)",
   "language": "python",
   "name": "python3"
  },
  "language_info": {
   "codemirror_mode": {
    "name": "ipython",
    "version": 3
   },
   "file_extension": ".py",
   "mimetype": "text/x-python",
   "name": "python",
   "nbconvert_exporter": "python",
   "pygments_lexer": "ipython3",
   "version": "3.11.0"
  }
 },
 "nbformat": 4,
 "nbformat_minor": 5
}
