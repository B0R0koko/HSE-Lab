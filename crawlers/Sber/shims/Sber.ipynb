{
 "cells": [
  {
   "cell_type": "code",
   "execution_count": 1,
   "id": "0c7eec33",
   "metadata": {},
   "outputs": [],
   "source": [
    "import requests\n",
    "\n",
    "from selectolax.parser import HTMLParser"
   ]
  },
  {
   "cell_type": "code",
   "execution_count": 111,
   "id": "0f04ccdc",
   "metadata": {},
   "outputs": [],
   "source": [
    "header_str = \"\"\"accept: application/json, text/plain, */*\n",
    "accept-encoding: gzip, deflate, br\n",
    "accept-language: ru-RU,ru;q=0.9,en-US;q=0.8,en;q=0.7\n",
    "client-token: 7ba97b6f4049436dab90c789f946ee2f\n",
    "cookie: external_analytics_anonymous_id=8f4e5542-b557-4c49-abc3-ffba74fad8e1; city_info=%7B%22slug%22%3A%22moscow%22%2C%22name%22%3A%22%D0%9C%D0%BE%D1%81%D0%BA%D0%B2%D0%B0%22%2C%22lat%22%3A55.7483%2C%22lon%22%3A37.6171%7D; _pk_id.6.3ec0=613406e869a8f899.1675411994.; _sa=SA1.c99dc97d-faeb-4252-8772-01f63c5e5523.1675411993; mindboxDeviceUUID=4929db8d-93f6-47d7-ac97-fa45d82811c4; directCrm-session=%7B%22deviceGuid%22%3A%224929db8d-93f6-47d7-ac97-fa45d82811c4%22%7D; rl_page_init_referrer=RudderEncrypt%3AU2FsdGVkX1%2FAgqTq0J%2F5U%2BcNHMqWs13kgnIuFWlEl4J3TmuJO2GwXrM4Jr%2Bq1FPt; rl_page_init_referring_domain=RudderEncrypt%3AU2FsdGVkX19qmS5gNlUDBePM7McPyRtTMdG%2Bl7w7ijs%3D; iap.uid=5ecad755de584fa1802ee9c0df55b0de; tmr_lvid=cb2af5cbac5110034139cb4c164c5683; tmr_lvidTS=1675411995033; rrpvid=929908304931887; _ym_uid=1675411995803187363; _ym_d=1675411995; flocktory-uuid=64d82f4e-c1df-4b0e-ad34-bf8f4c5d1337-7; rcuid=63d26116523fdc785493df38; adtech_uid=7e4b2f9a-42ef-453c-a3bf-8ab817fda1e7%3Asbermarket.ru; top100_id=t1.7588506.434154833.1675411996293; adrcid=AKqYxEm2wiMj5beXMpD61Og; cookies_consented=yes; identified_address=true; ngenix_jscv_cd881f1695eb=cookie_expires=1677071189&cookie_signature=r0Ao7JLG5vf7iAF2li5xZwrYLo8%3D; _pk_ses.6.3ec0=1; sessionId=1677067594248610083; adrdel=1; ssrMedia={%22windowWidth%22:880%2C%22primaryInput%22:%22mouse%22}; rl_group_id=RudderEncrypt%3AU2FsdGVkX1%2BtADZjQLfAG5iZePELDGvg2npK8NfG2mQ%3D; rl_group_trait=RudderEncrypt%3AU2FsdGVkX18wLhTvPgqGF9WkVBUAEiiEC6o0fYZsmVM%3D; _808db7ba1248=%5B%7B%22source%22%3A%22sbermarket.ru%22%2C%22medium%22%3A%22referral%22%2C%22cookie_changed_at%22%3A1677069673%7D%2C%7B%22source%22%3A%22%28direct%29%22%2C%22medium%22%3A%22%28none%29%22%2C%22cookie_changed_at%22%3A1677069678%7D%5D; rl_anonymous_id=RudderEncrypt%3AU2FsdGVkX1%2FKdbrBoMbUqCzxAdyGEJaGpeJukim2y9EckLtR%2Fq99Ysut1mQJ085j%2BGUaF8fL5zkIfDGvvjVa%2FQ%3D%3D; rl_user_id=RudderEncrypt%3AU2FsdGVkX186AjWCt3e%2BkH%2BvL9N7nt2i6jOxs40ihEg%3D; rl_trait=RudderEncrypt%3AU2FsdGVkX18xNZ9naEifWLnUauISCwXoG1iOlQjIk2hOI%2B7PazZiEqA5xO%2FjU6qXOt%2FJBmsc45lCcu0pqnYVJYoZIUkK0R4ZQY5qCUxOpQ5akyOAGfcm60U3itsBidUMnNyC1ow2qJDFu%2Fnn9VU4YT0SDWsdnu3%2FKZzCIJ%2BHuBrOUUGmZV7FvNbkZxomL3OH1KhBliEVlPhEQjsdxT5bNusMlSjL8lG%2FD0M4SgBRj4VCcuLiPwMVETLr0M7FVyCLjzZdsCbXizUReE%2B%2FcpE4ygPmO%2Bov9CSdLlCpkR1aJ839t%2Bbf%2BtkSwDut6BA2mw8Et273%2BpL4AdbJG6isGcNoHvuWEJBca%2FHW%2FZIvVfNxWn2ALNMoCRcEM0CBfQfUMBz26IrNp1v1Ku7V6sAzdPNXEw%3D%3D; _Instamart_session=YnFFa255T0ZPMzRNOUFNak0zVGJHMHFRTUtCSWtwa1N4Ny9oVTRIQnRRbXUxQnoyL0hjcU9CNW5USk40SlBLTnRsQnV0VndkMEdPSkVHcG0zdFFkZGtlaXRSMmtyRnA0ZmxLNDRIU0VhT2I5bFFPdTlIZ1M2elcwU1VXUTgxNUN5Ry92NDVITmhjWnpLYWxpMzdhbmdYSjdwRCtkSE1HcEJwZzRpNUdsTFBXNDRyQUZzc1c4RVoxSGZiYUFQcC90MnlwT2lPU21PQUN5KzRTYUVVK1Zhdz09LS01ZlNUSWlsVHdrdXJ6RFd4QmtWaStnPT0%3D--c4270c94868b50e7408c74f0dc6b3fde38511b6f; last_visit=1677066087955%3A%3A1677069687955; tmr_detect=0%7C1677069698290; t3_sid_7588506=s1.1615772629.1677067597921.1677069845262.2.26; rl_session=RudderEncrypt%3AU2FsdGVkX18wGPoRZBeHCO4ZjTxOaJkM1YuQxkFIVwDnMFjbDGELQEq8MXHo2oFPXvbDb1IStv1%2Fke%2FoYuBDvTD2rWSYkDtDMnhJGVPveuISa5wexJwCjubEXj4bSU%2FDQnvgihlrfM%2BDOKZ1%2FhDwog%3D%3D\n",
    "if-none-match: W/\"9406c31018865680cca39a721f9781c3\"\n",
    "is-storefront-ssr: false\n",
    "referer: http://sbermarket.ru/metro?sid=83\n",
    "sec-ch-ua: \"Not_A Brand\";v=\"99\", \"Google Chrome\";v=\"109\", \"Chromium\";v=\"109\"\n",
    "sec-ch-ua-mobile: ?0\n",
    "sec-ch-ua-platform: \"macOS\"\n",
    "sec-fetch-dest: empty\n",
    "sec-fetch-mode: cors\n",
    "sec-fetch-site: same-origin\n",
    "user-agent: Mozilla/5.0 (Macintosh; Intel Mac OS X 10_15_7) AppleWebKit/537.36 (KHTML, like Gecko) Chrome/109.0.0.0 Safari/537.36\"\"\""
   ]
  },
  {
   "cell_type": "code",
   "execution_count": 112,
   "id": "30f54810",
   "metadata": {},
   "outputs": [],
   "source": [
    "def parse_header(raw_header: str):\n",
    "    header = dict()\n",
    "\n",
    "    for line in raw_header.split(\"\\n\"):\n",
    "\n",
    "        if line.startswith(\":\"):\n",
    "            a, b = line[1:].split(\":\", 1)\n",
    "            a = f\":{a}\"\n",
    "        else:\n",
    "            a, b = line.split(\":\",1)\n",
    "\n",
    "        header[a.strip()] = b.strip()\n",
    "\n",
    "    return header"
   ]
  },
  {
   "cell_type": "code",
   "execution_count": 113,
   "id": "360998bd",
   "metadata": {},
   "outputs": [],
   "source": [
    "headers = parse_header(header_str)"
   ]
  },
  {
   "cell_type": "code",
   "execution_count": 3,
   "id": "e5f7a1fb",
   "metadata": {},
   "outputs": [],
   "source": [
    "proxies = {\n",
    "    \"http\": \"http://185.42.80.77:8082\",\n",
    "    \"https\": \"https://185.42.80.77:8082\"\n",
    "}"
   ]
  },
  {
   "cell_type": "code",
   "execution_count": 4,
   "id": "7e97e7ee",
   "metadata": {},
   "outputs": [
    {
     "name": "stderr",
     "output_type": "stream",
     "text": [
      "\n",
      "KeyboardInterrupt\n",
      "\n"
     ]
    }
   ],
   "source": [
    "resp = requests.get(\n",
    "    \"https://sbermarket.ru/\",\n",
    "    proxies=proxies\n",
    ")"
   ]
  },
  {
   "cell_type": "code",
   "execution_count": 151,
   "id": "7fa119ac",
   "metadata": {},
   "outputs": [],
   "source": [
    "import base64"
   ]
  },
  {
   "cell_type": "code",
   "execution_count": 154,
   "id": "b1992cb4",
   "metadata": {},
   "outputs": [
    {
     "data": {
      "text/plain": [
       "b'40.84.24.155'"
      ]
     },
     "execution_count": 154,
     "metadata": {},
     "output_type": "execute_result"
    }
   ],
   "source": [
    "base64.b64decode(\"NDAuODQuMjQuMTU1\")"
   ]
  },
  {
   "cell_type": "code",
   "execution_count": 2,
   "id": "a5d2a618",
   "metadata": {},
   "outputs": [
    {
     "name": "stderr",
     "output_type": "stream",
     "text": [
      "\n",
      "KeyboardInterrupt\n",
      "\n"
     ]
    }
   ],
   "source": [
    "resp = requests.get(\n",
    "    \"http://free-proxy.cz/en/proxylist/country/RU/https/ping/all\"\n",
    ")\n",
    "\n",
    "dom = HTMLParser(resp.text)"
   ]
  },
  {
   "cell_type": "code",
   "execution_count": null,
   "id": "3d08f0d2",
   "metadata": {},
   "outputs": [],
   "source": []
  },
  {
   "cell_type": "code",
   "execution_count": 153,
   "id": "77005dbf",
   "metadata": {},
   "outputs": [
    {
     "name": "stdout",
     "output_type": "stream",
     "text": [
      "  document.write(Base64.decode(\"NDAuODQuMjQuMTU1\"))\n",
      " document.write(Base64.decode(\"MTczLjAuMjU1LjE2\"))\n",
      "  document.write(Base64.decode(\"MTk5LjE5Ljk1LjI0Nw==\"))\n",
      "  document.write(Base64.decode(\"MTk5LjE5Ljk1LjEzMA==\"))\n",
      "(adsbygoogle = window.adsbygoogle || []).push({});\n",
      "  document.write(Base64.decode(\"MjE2LjM5LjE3My41MQ==\"))\n",
      " document.write(Base64.decode(\"OTEuMTIxLjQyLjY4\"))\n",
      " document.write(Base64.decode(\"NjYuMjUzLjE2NC4yMA==\"))\n",
      " document.write(Base64.decode(\"NjkuMzYuNjUuMjE0\"))\n",
      "  document.write(Base64.decode(\"MTcyLjg3LjkuMjE4\"))\n",
      " document.write(Base64.decode(\"MTczLjAuMjU0LjIzOA==\"))\n",
      " document.write(Base64.decode(\"MTc0LjE0MS4yMDcuODg=\"))\n",
      " document.write(Base64.decode(\"MTYyLjIxOS4yMzAuMTE5\"))\n",
      " document.write(Base64.decode(\"MjE2LjguMjE3LjI0Mw==\"))\n",
      "(adsbygoogle = window.adsbygoogle || []).push({});\n",
      " document.write(Base64.decode(\"MjE2LjE3MS4xNy4xMTk=\"))\n",
      " document.write(Base64.decode(\"MTA0LjE0NS43MC4yMjY=\"))\n",
      " document.write(Base64.decode(\"NTQuMjAyLjIxOS4xOTM=\"))\n",
      " document.write(Base64.decode(\"MjA3LjE3Ny40Ny40Mg==\"))\n",
      " document.write(Base64.decode(\"NzYuMTkxLjI2LjIzMg==\"))\n",
      " document.write(Base64.decode(\"MjE2LjE3MS4xNi4xMjM=\"))\n",
      " document.write(Base64.decode(\"NzYuMTAuNDEuMTI0\"))\n",
      " document.write(Base64.decode(\"NzUuMTAzLjE0My45Mw==\"))\n",
      " document.write(Base64.decode(\"NjguMzkuMTEyLjEyOA==\"))\n",
      " document.write(Base64.decode(\"MTczLjI0NS4xNTAuMzQ=\"))\n",
      " document.write(Base64.decode(\"NzYuMTkxLjI2LjY1\"))\n",
      " document.write(Base64.decode(\"NzYuMTAuNDMuMTY0\"))\n",
      " document.write(Base64.decode(\"MTA0LjE0NS4xMDMuMzg=\"))\n",
      " document.write(Base64.decode(\"MjQuMjE5LjcxLjU5\"))\n",
      " document.write(Base64.decode(\"NjguMTgwLjMuMjEy\"))\n",
      "  document.write(Base64.decode(\"MTc4LjIxMy4xNDUuMjQ=\"))\n",
      "  document.write(Base64.decode(\"MTIuMzUuNjguMjM5\"))\n"
     ]
    }
   ],
   "source": [
    "for proxy in dom.css(\"table#proxy_list > tbody > tr\"):\n",
    "    print(proxy.css_first(\"td:nth-child(1)\").text())"
   ]
  },
  {
   "cell_type": "code",
   "execution_count": 120,
   "id": "86acd57d",
   "metadata": {},
   "outputs": [
    {
     "name": "stderr",
     "output_type": "stream",
     "text": [
      "\n",
      "KeyboardInterrupt\n",
      "\n"
     ]
    }
   ],
   "source": [
    "resp = requests.get(\n",
    "    \"https://sbermarket.ru/\",\n",
    "    headers=headers,\n",
    "    proxies=proxies,\n",
    ")"
   ]
  },
  {
   "cell_type": "code",
   "execution_count": 98,
   "id": "c987e246",
   "metadata": {},
   "outputs": [
    {
     "data": {
      "text/plain": [
       "'<!DOCTYPE html>\\n<html lang=\"ru\">\\n<head>\\n<meta charset=\"UTF-8\">\\n<meta name=\"viewport\" content=\"width=device-width, initial-scale=1.0\">\\n<meta http-equiv=\"X-UA-Compatible\" content=\"ie=edge\">\\n<meta name=\"format-detection\" content=\"telephone=no\">\\n<link rel=\"icon\" href=\"https://moy.magnit.ru/favicon.ico?v=2\" type=\"image/x-icon\">\\t\\n<link rel=\"stylesheet\" href=\"https://magnit.ru/local/markup/dist/css/style.css\">\\n<title>Ð\\xa0Ð¾Ð·Ð½Ð¸Ñ\\x87Ð½Ð°Ñ\\x8f Ñ\\x81ÐµÑ\\x82Ñ\\x8c Â«Ð\\x9cÐ°Ð³Ð½Ð¸Ñ\\x82Â»â\\x80\\x8e</title>\\t\\n<link href=\"https://fonts.googleapis.com/css2?family=Montserrat:ital,wght@0,200;0,300;0,400;0,500;1,200;1,300;1,400&display=swap\" rel=\"stylesheet\">\\t\\n</head>\\n<body style=\"font-family: \\'Montserrat\\', sans-serif;\">\\n<div class=\"g-page\">\\n<div class=\"g-main\">\\n<div class=\"g-wrap\">\\n<section class=\"g-section tw\">\\n<div class=\"tw__header\">\\n<a href=\"https://magnit.ru/\" class=\"tw__header__logo\" target=\"_blank\" title=\"Ð\\xa0Ð¾Ð·Ð½Ð¸Ñ\\x87Ð½Ð°Ñ\\x8f Ñ\\x81ÐµÑ\\x82Ñ\\x8c Â«Ð\\x9cÐ°Ð³Ð½Ð¸Ñ\\x82Â»â\\x80\\x8e\" alt=\"Ð\\xa0Ð¾Ð·Ð½Ð¸Ñ\\x87Ð½Ð°Ñ\\x8f Ñ\\x81ÐµÑ\\x82Ñ\\x8c Â«Ð\\x9cÐ°Ð³Ð½Ð¸Ñ\\x82Â»â\\x80\\x8e\"></a>\\n</div>\\n<div class=\"tw__message\">\\n<div class=\"col-ts-6 col-ds-6 col-d-5\">\\n<div class=\"tw__message_title\">\\nÐ¡Ð°Ð¹Ñ\\x82 Ð²Ñ\\x80ÐµÐ¼ÐµÐ½Ð½Ð¾<br> Ð½Ðµ Ð´Ð¾Ñ\\x81Ñ\\x82Ñ\\x83Ð¿ÐµÐ½\\n</div>\\n<div class=\"tw__message_text\">\\nÐ\\x98Ð´Ñ\\x83Ñ\\x82 Ñ\\x82ÐµÑ\\x85Ð½Ð¸Ñ\\x87ÐµÑ\\x81ÐºÐ¸Ðµ Ñ\\x80Ð°Ð±Ð¾Ñ\\x82Ñ\\x8b: Ð¿Ñ\\x80Ð¸Ð½Ð¾Ñ\\x81Ð¸Ð¼ Ð¸Ð·Ð²Ð¸Ð½ÐµÐ½Ð¸Ñ\\x8f Ð·Ð° Ð²Ñ\\x80ÐµÐ¼ÐµÐ½Ð½Ñ\\x8bÐµ Ð½ÐµÑ\\x83Ð´Ð¾Ð±Ñ\\x81Ñ\\x82Ð²Ð°!\\n</div>\\n<div class=\"tw__message_info\">\\n<p>Ð\\x9dÐµ Ð¿Ñ\\x80Ð¾Ð¿Ñ\\x83Ñ\\x81Ñ\\x82Ð¸Ñ\\x82Ðµ:</p>\\n<ul>\\n <li>\\n<a target=\"_blank\" href=\"https://magnit.ru/promo/\">Ð\\x90ÐºÑ\\x86Ð¸Ð¸ Ð¸ Ñ\\x81Ð¿ÐµÑ\\x86Ð¿Ñ\\x80ÐµÐ´Ð»Ð¾Ð¶ÐµÐ½Ð¸Ñ\\x8f</a>\\n</li>\\n<li>\\n<a target=\"_blank\" href=\"https://magnit.ru/journals/\">Ð\\x9aÐ°Ñ\\x82Ð°Ð»Ð¾Ð³Ð¸ Ñ\\x81Ð¾ Ñ\\x81ÐºÐ¸Ð´ÐºÐ°Ð¼Ð¸</a>\\n</li>\\n</ul>\\n</div>\\n</div>\\n<div class=\"col-ts-6 col-ds-6 col-d-7 tw__message_img\">\\n<img src=\"https://magnit.ru/local/markup/dist/images/technical_work.svg\">\\n</div>\\n</div>\\n<div class=\"tw__info-row\">\\n<div class=\"col-ts-6 tw__hotline\">\\n<div class=\"tw__hotline_title\">\\nÐ\\x93Ð¾Ñ\\x80Ñ\\x8fÑ\\x87Ð°Ñ\\x8f Ð»Ð¸Ð½Ð¸Ñ\\x8f\\n</div>\\n<div class=\"tw__hotline_phone\">\\n<a href=\"tel:8 800 200-90-02\" title=\"Ð\\x93Ð¾Ñ\\x80Ñ\\x8fÑ\\x87Ð°Ñ\\x8f Ð»Ð¸Ð½Ð¸Ñ\\x8f | Ð\\xa0Ð¾Ð·Ð½Ð¸Ñ\\x87Ð½Ð°Ñ\\x8f Ñ\\x81ÐµÑ\\x82Ñ\\x8c Â«Ð\\x9cÐ°Ð³Ð½Ð¸Ñ\\x82Â»â\\x80\\x8e\">8 800 200-90-02</a>\\n</div>\\n<div class=\"tw__hotline_text\">\\nc 07:00 Ð´Ð¾ 23:00 <br>Ð¿Ð¾ Ð¼Ð¾Ñ\\x81ÐºÐ¾Ð²Ñ\\x81ÐºÐ¾Ð¼Ñ\\x83 Ð²Ñ\\x80ÐµÐ¼ÐµÐ½Ð¸\\n</div>\\n</div>\\n<div class=\"col-ts-6 tw__social\">\\n<div class=\"tw__social_header\">\\nÂ«Ð\\x9cÐ°Ð³Ð½Ð¸Ñ\\x82Â» Ð² Ñ\\x81Ð¾Ñ\\x86Ñ\\x81ÐµÑ\\x82Ñ\\x8fÑ\\x85:\\n</div>\\n<div class=\"tw__social__items\">\\n<a href=\"https://www.instagram.com/magnitkrd/\" class=\"tw__social__items_item tw__social__items_item_inst\"\\ntarget=\"_blank\" title=\"Instagram | Ð\\xa0Ð¾Ð·Ð½Ð¸Ñ\\x87Ð½Ð°Ñ\\x8f Ñ\\x81ÐµÑ\\x82Ñ\\x8c Â«Ð\\x9cÐ°Ð³Ð½Ð¸Ñ\\x82Â»â\\x80\\x8e\" alt=\"Instagram | Ð\\xa0Ð¾Ð·Ð½Ð¸Ñ\\x87Ð½Ð°Ñ\\x8f Ñ\\x81ÐµÑ\\x82Ñ\\x8c Â«Ð\\x9cÐ°Ð³Ð½Ð¸Ñ\\x82Â»â\\x80\\x8e\"></a>\\n<a href=\"https://vk.com/magnitretail\" class=\"tw__social__items_item tw__social__items_item_vk\"\\n target=\"_blank\" title=\"Ð\\x92ÐºÐ¾Ð½Ñ\\x82Ð°ÐºÑ\\x82Ðµ | Ð\\xa0Ð¾Ð·Ð½Ð¸Ñ\\x87Ð½Ð°Ñ\\x8f Ñ\\x81ÐµÑ\\x82Ñ\\x8c Â«Ð\\x9cÐ°Ð³Ð½Ð¸Ñ\\x82Â»â\\x80\\x8e\" alt=\"Ð\\x92ÐºÐ¾Ð½Ñ\\x82Ð°ÐºÑ\\x82Ðµ | Ð\\xa0Ð¾Ð·Ð½Ð¸Ñ\\x87Ð½Ð°Ñ\\x8f Ñ\\x81ÐµÑ\\x82Ñ\\x8c Â«Ð\\x9cÐ°Ð³Ð½Ð¸Ñ\\x82Â»â\\x80\\x8e\"></a>\\n</div>\\n</div>\\n</div>\\n</section>\\n</div>\\n</div>\\n</div>\\n</body>\\n</html>'"
      ]
     },
     "execution_count": 98,
     "metadata": {},
     "output_type": "execute_result"
    }
   ],
   "source": [
    "resp.text"
   ]
  }
 ],
 "metadata": {
  "kernelspec": {
   "display_name": "Python 3 (ipykernel)",
   "language": "python",
   "name": "python3"
  },
  "language_info": {
   "codemirror_mode": {
    "name": "ipython",
    "version": 3
   },
   "file_extension": ".py",
   "mimetype": "text/x-python",
   "name": "python",
   "nbconvert_exporter": "python",
   "pygments_lexer": "ipython3",
   "version": "3.11.0"
  }
 },
 "nbformat": 4,
 "nbformat_minor": 5
}
