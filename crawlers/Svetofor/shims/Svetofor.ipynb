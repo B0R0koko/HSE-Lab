{
 "cells": [
  {
   "cell_type": "code",
   "execution_count": 4,
   "id": "1a473f24",
   "metadata": {},
   "outputs": [],
   "source": [
    "import requests\n",
    "import json\n",
    "\n",
    "from selectolax.parser import HTMLParser\n",
    "from bs4 import BeautifulSoup"
   ]
  },
  {
   "cell_type": "code",
   "execution_count": 5,
   "id": "e70058f0",
   "metadata": {},
   "outputs": [],
   "source": [
    "resp = requests.get(\n",
    "    \"https://spb-pargolovo.svetoforonline.ru/\"\n",
    ").text"
   ]
  },
  {
   "cell_type": "code",
   "execution_count": 6,
   "id": "8ac89921",
   "metadata": {},
   "outputs": [],
   "source": [
    "dom = HTMLParser(resp)"
   ]
  },
  {
   "cell_type": "code",
   "execution_count": 7,
   "id": "bc58e9c8",
   "metadata": {},
   "outputs": [],
   "source": [
    "categories = {\n",
    "    el.attributes[\"href\"]: el.text() for el in dom.css(\"div#menu > ul > li > a\")\n",
    "}"
   ]
  },
  {
   "cell_type": "code",
   "execution_count": 8,
   "id": "b4b904f6",
   "metadata": {},
   "outputs": [
    {
     "data": {
      "text/plain": [
       "{'/novye-postypleniya/': 'Новые поступления',\n",
       " '/konditerskie-izdeliya/': 'Кондитерские изделия',\n",
       " '/chay,-kofe,-bezalkogolnie-napitki/': 'Чай, кофе, безалкогольные напитки',\n",
       " '/konservirovannaya-i-zamorozhennaya-produktsiya/': 'Консервированная и замороженная продукция',\n",
       " '/myasnaya-i-ribnaya-produktsiya/': 'Мясная и рыбная продукция',\n",
       " '/molochnaya-produktsiya/': 'Молочная продукция',\n",
       " '/bakaleya-i-drugie-produkti/': 'Бакалея и другие продукты',\n",
       " '/posuda,-hoz.tovari,-mebel/': 'Посуда, хоз.товары, мебель',\n",
       " '/sadovo-ogorodniy-inventar,-zootovari,-hobbi/': 'Садово-огородный инвентарь, зоотовары, хобби',\n",
       " '/obuv,-odezhda,-detskie-tovari,-tekstil/': 'Обувь, одежда, детские товары, текстиль',\n",
       " '/bitovaya-himiya/': 'Бытовая химия',\n",
       " '/shops/': 'Все магазины СВЕТОФОР'}"
      ]
     },
     "execution_count": 8,
     "metadata": {},
     "output_type": "execute_result"
    }
   ],
   "source": [
    "categories"
   ]
  },
  {
   "cell_type": "code",
   "execution_count": 11,
   "id": "4a0d6a7b",
   "metadata": {},
   "outputs": [],
   "source": [
    "with open(\"categories.json\", \"w\", encoding=\"utf8\") as file:\n",
    "    json.dump(categories, file, ensure_ascii=False)"
   ]
  },
  {
   "cell_type": "code",
   "execution_count": 194,
   "id": "05e97b9a",
   "metadata": {},
   "outputs": [],
   "source": [
    "resp = requests.get(\n",
    "    \"https://spb-pargolovo.svetoforonline.ru/konditerskie-izdeliya/page1.htm\",\n",
    ")"
   ]
  },
  {
   "cell_type": "code",
   "execution_count": 195,
   "id": "c5fc2b84",
   "metadata": {},
   "outputs": [],
   "source": [
    "dom = HTMLParser(resp.text)"
   ]
  },
  {
   "cell_type": "code",
   "execution_count": 158,
   "id": "3b48643b",
   "metadata": {},
   "outputs": [],
   "source": [
    "product = dom.css(\"div.product-grid > div\")"
   ]
  },
  {
   "cell_type": "code",
   "execution_count": 159,
   "id": "0790cb39",
   "metadata": {},
   "outputs": [
    {
     "data": {
      "text/plain": [
       "' Альпенлэнд Питьевой 1,2 290гр БЗМЖ'"
      ]
     },
     "execution_count": 159,
     "metadata": {},
     "output_type": "execute_result"
    }
   ],
   "source": [
    "product[0].css_first(\"a\").text()"
   ]
  },
  {
   "cell_type": "code",
   "execution_count": 160,
   "id": "f7f69ed7",
   "metadata": {},
   "outputs": [
    {
     "data": {
      "text/plain": [
       "'25.54 руб./шт.'"
      ]
     },
     "execution_count": 160,
     "metadata": {},
     "output_type": "execute_result"
    }
   ],
   "source": [
    "product[0].css_first(\"span\").text()"
   ]
  },
  {
   "cell_type": "code",
   "execution_count": 141,
   "id": "a5e237f5",
   "metadata": {},
   "outputs": [],
   "source": [
    "soup = BeautifulSoup(resp.text)"
   ]
  },
  {
   "cell_type": "code",
   "execution_count": 154,
   "id": "4ec234c1",
   "metadata": {},
   "outputs": [
    {
     "data": {
      "text/plain": [
       "<div class=\"BNWRitm\" itbad=\"0\" itid=\"68364\" itim=\"0\" ittop=\"0\"><img src=\"//svetoforonline.ru/data/template/images/item_noimage.jpg\" title='Масса десертная творогосодержащая с изюмом \"Домашняя бурёнка\", ЗМЖ, 23, фас 1000г, пакет'/><br/><span>112.54 руб./шт.</span><br/><a href=\"/molochnaya-produktsiya/kislomolochnaya-produktsiya/massa-desertnaya-tvorogosoderzhashchaya-s-izyumom-domashnyaya-burenka,-zmzh,-23,-fas-1000g,-paket.htm\">Масса десертная творогосодержащая с изюмом \"Домашняя бурёнка\", ЗМЖ, 23, фас 1000г, пакет</a></div>"
      ]
     },
     "execution_count": 154,
     "metadata": {},
     "output_type": "execute_result"
    }
   ],
   "source": [
    "soup.find(\"div\", {\"class\": \"product-grid\"}).find_all(\"div\")[0]"
   ]
  },
  {
   "cell_type": "code",
   "execution_count": 197,
   "id": "3e1cd9b7",
   "metadata": {},
   "outputs": [],
   "source": [
    "hrefs = [\n",
    "    a.attributes[\"href\"] for a in dom.css(\"td.paging > a\")[:-2]\n",
    "]"
   ]
  },
  {
   "cell_type": "code",
   "execution_count": 198,
   "id": "0c9ae599",
   "metadata": {},
   "outputs": [],
   "source": [
    "from urllib.parse import urljoin"
   ]
  },
  {
   "cell_type": "code",
   "execution_count": 199,
   "id": "347b941c",
   "metadata": {},
   "outputs": [
    {
     "data": {
      "text/plain": [
       "'https://spb-pargolovo.svetoforonline.ru/konditerskie-izdeliya/page2.htm'"
      ]
     },
     "execution_count": 199,
     "metadata": {},
     "output_type": "execute_result"
    }
   ],
   "source": [
    "urljoin(\"https://spb-pargolovo.svetoforonline.ru/konditerskie-izdeliya/\", hrefs[0])"
   ]
  }
 ],
 "metadata": {
  "kernelspec": {
   "display_name": "Python 3 (ipykernel)",
   "language": "python",
   "name": "python3"
  },
  "language_info": {
   "codemirror_mode": {
    "name": "ipython",
    "version": 3
   },
   "file_extension": ".py",
   "mimetype": "text/x-python",
   "name": "python",
   "nbconvert_exporter": "python",
   "pygments_lexer": "ipython3",
   "version": "3.11.0"
  }
 },
 "nbformat": 4,
 "nbformat_minor": 5
}
