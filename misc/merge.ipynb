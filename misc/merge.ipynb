{
 "cells": [
  {
   "cell_type": "code",
   "execution_count": 1,
   "metadata": {},
   "outputs": [],
   "source": [
    "import pandas as pd\n",
    "import os"
   ]
  },
  {
   "cell_type": "code",
   "execution_count": 2,
   "metadata": {},
   "outputs": [],
   "source": [
    "os.chdir(\"..\")"
   ]
  },
  {
   "cell_type": "code",
   "execution_count": 3,
   "metadata": {},
   "outputs": [],
   "source": [
    "os.chdir(\"data/Magnit\")"
   ]
  },
  {
   "cell_type": "code",
   "execution_count": 4,
   "metadata": {},
   "outputs": [
    {
     "data": {
      "text/html": [
       "<div>\n",
       "<style scoped>\n",
       "    .dataframe tbody tr th:only-of-type {\n",
       "        vertical-align: middle;\n",
       "    }\n",
       "\n",
       "    .dataframe tbody tr th {\n",
       "        vertical-align: top;\n",
       "    }\n",
       "\n",
       "    .dataframe thead th {\n",
       "        text-align: right;\n",
       "    }\n",
       "</style>\n",
       "<table border=\"1\" class=\"dataframe\">\n",
       "  <thead>\n",
       "    <tr style=\"text-align: right;\">\n",
       "      <th></th>\n",
       "      <th>file</th>\n",
       "      <th>division</th>\n",
       "      <th>shop_code</th>\n",
       "      <th>address</th>\n",
       "    </tr>\n",
       "  </thead>\n",
       "  <tbody>\n",
       "    <tr>\n",
       "      <th>0</th>\n",
       "      <td>magnit_1.json</td>\n",
       "      <td>391958</td>\n",
       "      <td>391958</td>\n",
       "      <td>Санкт-Петербург, проспект Художников, 12</td>\n",
       "    </tr>\n",
       "    <tr>\n",
       "      <th>1</th>\n",
       "      <td>magnit_2.json</td>\n",
       "      <td>279915</td>\n",
       "      <td>279915</td>\n",
       "      <td>Санкт-Петербург, Гражданский проспект, 41к2Б</td>\n",
       "    </tr>\n",
       "    <tr>\n",
       "      <th>2</th>\n",
       "      <td>magnit_3.json</td>\n",
       "      <td>784311</td>\n",
       "      <td>784311</td>\n",
       "      <td>Санкт-Петербург, Гатчинская улица, 7</td>\n",
       "    </tr>\n",
       "    <tr>\n",
       "      <th>3</th>\n",
       "      <td>magnit_4.json</td>\n",
       "      <td>491531</td>\n",
       "      <td>491531</td>\n",
       "      <td>Санкт-Петербург, улица Беринга, 11</td>\n",
       "    </tr>\n",
       "    <tr>\n",
       "      <th>4</th>\n",
       "      <td>magnit_5.json</td>\n",
       "      <td>973686</td>\n",
       "      <td>973686</td>\n",
       "      <td>Санкт-Петербург, Лиговский проспект, 2-4</td>\n",
       "    </tr>\n",
       "    <tr>\n",
       "      <th>5</th>\n",
       "      <td>magnit_6.json</td>\n",
       "      <td>279915</td>\n",
       "      <td>279915</td>\n",
       "      <td>Санкт-Петербург, проспект Непокорённых, 63к13с4</td>\n",
       "    </tr>\n",
       "    <tr>\n",
       "      <th>6</th>\n",
       "      <td>magnit_7.json</td>\n",
       "      <td>784338</td>\n",
       "      <td>784338</td>\n",
       "      <td>Санкт-Петербург, Индустриальный проспект, 42</td>\n",
       "    </tr>\n",
       "    <tr>\n",
       "      <th>7</th>\n",
       "      <td>magnit_8.json</td>\n",
       "      <td>784198</td>\n",
       "      <td>784198</td>\n",
       "      <td>Санкт-Петербург, Морской переулок, 3Р</td>\n",
       "    </tr>\n",
       "    <tr>\n",
       "      <th>8</th>\n",
       "      <td>magnit_9.json</td>\n",
       "      <td>304435</td>\n",
       "      <td>304435</td>\n",
       "      <td>Санкт-Петербург, Народная улица, 16</td>\n",
       "    </tr>\n",
       "    <tr>\n",
       "      <th>9</th>\n",
       "      <td>magnit_10.json</td>\n",
       "      <td>793078</td>\n",
       "      <td>793078</td>\n",
       "      <td>Санкт-Петербург, улица Турку, 10к1</td>\n",
       "    </tr>\n",
       "  </tbody>\n",
       "</table>\n",
       "</div>"
      ],
      "text/plain": [
       "             file  division  shop_code  \\\n",
       "0   magnit_1.json    391958     391958   \n",
       "1   magnit_2.json    279915     279915   \n",
       "2   magnit_3.json    784311     784311   \n",
       "3   magnit_4.json    491531     491531   \n",
       "4   magnit_5.json    973686     973686   \n",
       "5   magnit_6.json    279915     279915   \n",
       "6   magnit_7.json    784338     784338   \n",
       "7   magnit_8.json    784198     784198   \n",
       "8   magnit_9.json    304435     304435   \n",
       "9  magnit_10.json    793078     793078   \n",
       "\n",
       "                                           address  \n",
       "0         Санкт-Петербург, проспект Художников, 12  \n",
       "1     Санкт-Петербург, Гражданский проспект, 41к2Б  \n",
       "2             Санкт-Петербург, Гатчинская улица, 7  \n",
       "3               Санкт-Петербург, улица Беринга, 11  \n",
       "4         Санкт-Петербург, Лиговский проспект, 2-4  \n",
       "5  Санкт-Петербург, проспект Непокорённых, 63к13с4  \n",
       "6     Санкт-Петербург, Индустриальный проспект, 42  \n",
       "7            Санкт-Петербург, Морской переулок, 3Р  \n",
       "8              Санкт-Петербург, Народная улица, 16  \n",
       "9               Санкт-Петербург, улица Турку, 10к1  "
      ]
     },
     "execution_count": 4,
     "metadata": {},
     "output_type": "execute_result"
    }
   ],
   "source": [
    "df_meta = pd.read_json(\"magnit_meta.json\")\n",
    "df_meta"
   ]
  },
  {
   "cell_type": "code",
   "execution_count": 5,
   "metadata": {},
   "outputs": [],
   "source": [
    "meta_map = dict(zip(df_meta[\"shop_code\"], df_meta[\"address\"]))"
   ]
  },
  {
   "cell_type": "code",
   "execution_count": 9,
   "metadata": {},
   "outputs": [],
   "source": [
    "df_list = []\n",
    "\n",
    "for file in os.listdir():\n",
    "    if \"meta\" not in file:\n",
    "        df_list.append(\n",
    "            pd.read_json(file)\n",
    "        )"
   ]
  },
  {
   "cell_type": "code",
   "execution_count": 10,
   "metadata": {},
   "outputs": [],
   "source": [
    "df = pd.concat(df_list)\n",
    "df = df.drop_duplicates()"
   ]
  },
  {
   "cell_type": "code",
   "execution_count": 11,
   "metadata": {},
   "outputs": [],
   "source": [
    "df[\"address\"] = df[\"shop_code\"].map(meta_map)"
   ]
  },
  {
   "cell_type": "code",
   "execution_count": 12,
   "metadata": {},
   "outputs": [],
   "source": [
    "df.reset_index(inplace=True, drop=True)"
   ]
  },
  {
   "cell_type": "code",
   "execution_count": 14,
   "metadata": {},
   "outputs": [
    {
     "data": {
      "text/plain": [
       "(38828, 7)"
      ]
     },
     "execution_count": 14,
     "metadata": {},
     "output_type": "execute_result"
    }
   ],
   "source": [
    "df.shape"
   ]
  },
  {
   "cell_type": "code",
   "execution_count": 16,
   "metadata": {},
   "outputs": [
    {
     "data": {
      "text/html": [
       "<div>\n",
       "<style scoped>\n",
       "    .dataframe tbody tr th:only-of-type {\n",
       "        vertical-align: middle;\n",
       "    }\n",
       "\n",
       "    .dataframe tbody tr th {\n",
       "        vertical-align: top;\n",
       "    }\n",
       "\n",
       "    .dataframe thead th {\n",
       "        text-align: right;\n",
       "    }\n",
       "</style>\n",
       "<table border=\"1\" class=\"dataframe\">\n",
       "  <thead>\n",
       "    <tr style=\"text-align: right;\">\n",
       "      <th></th>\n",
       "      <th>name</th>\n",
       "      <th>category</th>\n",
       "      <th>shop_code</th>\n",
       "      <th>currentPrice</th>\n",
       "      <th>previousPrice</th>\n",
       "      <th>quantity</th>\n",
       "      <th>address</th>\n",
       "    </tr>\n",
       "  </thead>\n",
       "  <tbody>\n",
       "    <tr>\n",
       "      <th>1</th>\n",
       "      <td>Говядина тушеная Русь Гост Экстра 338г</td>\n",
       "      <td>Мясные консервы</td>\n",
       "      <td>784198</td>\n",
       "      <td>147</td>\n",
       "      <td>240</td>\n",
       "      <td>10</td>\n",
       "      <td>Санкт-Петербург, Морской переулок, 3Р</td>\n",
       "    </tr>\n",
       "    <tr>\n",
       "      <th>6948</th>\n",
       "      <td>Говядина тушеная Русь Гост Экстра 338г</td>\n",
       "      <td>Мясные консервы</td>\n",
       "      <td>491531</td>\n",
       "      <td>230</td>\n",
       "      <td>230</td>\n",
       "      <td>11</td>\n",
       "      <td>Санкт-Петербург, улица Беринга, 11</td>\n",
       "    </tr>\n",
       "    <tr>\n",
       "      <th>10562</th>\n",
       "      <td>Говядина тушеная Русь Гост Экстра 338г</td>\n",
       "      <td>Мясные консервы</td>\n",
       "      <td>973686</td>\n",
       "      <td>126</td>\n",
       "      <td>230</td>\n",
       "      <td>10</td>\n",
       "      <td>Санкт-Петербург, Лиговский проспект, 2-4</td>\n",
       "    </tr>\n",
       "    <tr>\n",
       "      <th>15570</th>\n",
       "      <td>Говядина тушеная Русь Гост Экстра 338г</td>\n",
       "      <td>Мясные консервы</td>\n",
       "      <td>304435</td>\n",
       "      <td>230</td>\n",
       "      <td>230</td>\n",
       "      <td>28</td>\n",
       "      <td>Санкт-Петербург, Народная улица, 16</td>\n",
       "    </tr>\n",
       "    <tr>\n",
       "      <th>20772</th>\n",
       "      <td>Говядина тушеная Русь Гост Экстра 338г</td>\n",
       "      <td>Мясные консервы</td>\n",
       "      <td>279915</td>\n",
       "      <td>240</td>\n",
       "      <td>240</td>\n",
       "      <td>27</td>\n",
       "      <td>Санкт-Петербург, проспект Непокорённых, 63к13с4</td>\n",
       "    </tr>\n",
       "    <tr>\n",
       "      <th>23647</th>\n",
       "      <td>Говядина тушеная Русь Гост Экстра 338г</td>\n",
       "      <td>Мясные консервы</td>\n",
       "      <td>793078</td>\n",
       "      <td>230</td>\n",
       "      <td>230</td>\n",
       "      <td>23</td>\n",
       "      <td>Санкт-Петербург, улица Турку, 10к1</td>\n",
       "    </tr>\n",
       "    <tr>\n",
       "      <th>29246</th>\n",
       "      <td>Говядина тушеная Русь Гост Экстра 338г</td>\n",
       "      <td>Мясные консервы</td>\n",
       "      <td>784311</td>\n",
       "      <td>230</td>\n",
       "      <td>230</td>\n",
       "      <td>9</td>\n",
       "      <td>Санкт-Петербург, Гатчинская улица, 7</td>\n",
       "    </tr>\n",
       "    <tr>\n",
       "      <th>31650</th>\n",
       "      <td>Говядина тушеная Русь Гост Экстра 338г</td>\n",
       "      <td>Мясные консервы</td>\n",
       "      <td>391958</td>\n",
       "      <td>147</td>\n",
       "      <td>225</td>\n",
       "      <td>27</td>\n",
       "      <td>Санкт-Петербург, проспект Художников, 12</td>\n",
       "    </tr>\n",
       "    <tr>\n",
       "      <th>37162</th>\n",
       "      <td>Говядина тушеная Русь Гост Экстра 338г</td>\n",
       "      <td>Мясные консервы</td>\n",
       "      <td>784338</td>\n",
       "      <td>136</td>\n",
       "      <td>230</td>\n",
       "      <td>13</td>\n",
       "      <td>Санкт-Петербург, Индустриальный проспект, 42</td>\n",
       "    </tr>\n",
       "  </tbody>\n",
       "</table>\n",
       "</div>"
      ],
      "text/plain": [
       "                                         name         category  shop_code  \\\n",
       "1      Говядина тушеная Русь Гост Экстра 338г  Мясные консервы     784198   \n",
       "6948   Говядина тушеная Русь Гост Экстра 338г  Мясные консервы     491531   \n",
       "10562  Говядина тушеная Русь Гост Экстра 338г  Мясные консервы     973686   \n",
       "15570  Говядина тушеная Русь Гост Экстра 338г  Мясные консервы     304435   \n",
       "20772  Говядина тушеная Русь Гост Экстра 338г  Мясные консервы     279915   \n",
       "23647  Говядина тушеная Русь Гост Экстра 338г  Мясные консервы     793078   \n",
       "29246  Говядина тушеная Русь Гост Экстра 338г  Мясные консервы     784311   \n",
       "31650  Говядина тушеная Русь Гост Экстра 338г  Мясные консервы     391958   \n",
       "37162  Говядина тушеная Русь Гост Экстра 338г  Мясные консервы     784338   \n",
       "\n",
       "       currentPrice  previousPrice  quantity  \\\n",
       "1               147            240        10   \n",
       "6948            230            230        11   \n",
       "10562           126            230        10   \n",
       "15570           230            230        28   \n",
       "20772           240            240        27   \n",
       "23647           230            230        23   \n",
       "29246           230            230         9   \n",
       "31650           147            225        27   \n",
       "37162           136            230        13   \n",
       "\n",
       "                                               address  \n",
       "1                Санкт-Петербург, Морской переулок, 3Р  \n",
       "6948                Санкт-Петербург, улица Беринга, 11  \n",
       "10562         Санкт-Петербург, Лиговский проспект, 2-4  \n",
       "15570              Санкт-Петербург, Народная улица, 16  \n",
       "20772  Санкт-Петербург, проспект Непокорённых, 63к13с4  \n",
       "23647               Санкт-Петербург, улица Турку, 10к1  \n",
       "29246             Санкт-Петербург, Гатчинская улица, 7  \n",
       "31650         Санкт-Петербург, проспект Художников, 12  \n",
       "37162     Санкт-Петербург, Индустриальный проспект, 42  "
      ]
     },
     "execution_count": 16,
     "metadata": {},
     "output_type": "execute_result"
    }
   ],
   "source": [
    "df[df.name == \"Говядина тушеная Русь Гост Экстра 338г\"]"
   ]
  },
  {
   "cell_type": "code",
   "execution_count": 17,
   "metadata": {},
   "outputs": [],
   "source": [
    "df.to_excel(\"data_magnit.xlsx\", index=False)"
   ]
  }
 ],
 "metadata": {
  "kernelspec": {
   "display_name": "Python 3 (ipykernel)",
   "language": "python",
   "name": "python3"
  },
  "language_info": {
   "codemirror_mode": {
    "name": "ipython",
    "version": 3
   },
   "file_extension": ".py",
   "mimetype": "text/x-python",
   "name": "python",
   "nbconvert_exporter": "python",
   "pygments_lexer": "ipython3",
   "version": "3.11.0"
  },
  "vscode": {
   "interpreter": {
    "hash": "fc6efef9618ebc5630dda71db9e875dc116846ac145f8d82c65d77bae5dbcac4"
   }
  }
 },
 "nbformat": 4,
 "nbformat_minor": 2
}
